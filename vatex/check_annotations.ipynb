{
 "cells": [
  {
   "cell_type": "code",
   "execution_count": 1,
   "id": "622f0335-9a51-47da-86de-1832969c5fb3",
   "metadata": {},
   "outputs": [],
   "source": [
    "%load_ext autoreload\n",
    "%autoreload 2"
   ]
  },
  {
   "cell_type": "code",
   "execution_count": 20,
   "id": "ca9202a0-9903-4477-a66f-53a0de53ac13",
   "metadata": {},
   "outputs": [],
   "source": [
    "from os.path import join\n",
    "import json\n",
    "import h5py\n",
    "import pprint\n",
    "import numpy as np\n",
    "from collections import defaultdict\n",
    "import matplotlib.pyplot as plt\n",
    "from tqdm import tqdm\n",
    "\n",
    "from utils.io import load_json\n",
    "from utils.text import temporal_keywords, get_temporal_sentences_by_keyword, plot_distribution_of_temporal_sentences"
   ]
  },
  {
   "cell_type": "code",
   "execution_count": 6,
   "id": "5600e51f-460d-4f16-9501-783acabf2204",
   "metadata": {},
   "outputs": [],
   "source": [
    "# set data root\n",
    "data_root = \"/ssd/pbagad/datasets/vatex/\"\n",
    "\n",
    "# load annotations\n",
    "train = load_json(join(data_root, \"vatex_training_v1.0.json\"))\n",
    "val = load_json(join(data_root, \"vatex_validation_v1.0.json\"))\n",
    "data = train + val"
   ]
  },
  {
   "cell_type": "code",
   "execution_count": 8,
   "id": "504410c0-de07-4690-8e34-5422cfe1bd8f",
   "metadata": {},
   "outputs": [],
   "source": [
    "# keep only eng captions\n",
    "data = list(map(lambda x: {k:v for k, v in x.items() if k != \"chCap\"}, data))"
   ]
  },
  {
   "cell_type": "code",
   "execution_count": 9,
   "id": "ec66483d-3485-47c6-a781-cdc50a391cc7",
   "metadata": {},
   "outputs": [
    {
     "data": {
      "text/plain": [
       "28991"
      ]
     },
     "execution_count": 9,
     "metadata": {},
     "output_type": "execute_result"
    }
   ],
   "source": [
    "len(data)"
   ]
  },
  {
   "cell_type": "code",
   "execution_count": 10,
   "id": "875235a7-1835-4a1f-ba21-e3816f700191",
   "metadata": {},
   "outputs": [
    {
     "data": {
      "text/plain": [
       "{'videoID': 'Ptf_2VRj-V0_000122_000132',\n",
       " 'enCap': ['People wearing harnesses using ropes to climb up a rock slope.',\n",
       "  'A person climbing down a rock edge while someone talks about donating to a cause.',\n",
       "  'A person is repelling down a rock while a girl asks for donations.',\n",
       "  'A woman is describing some fears you may have while rock climbing.',\n",
       "  'A woman is shown rock climbing and coming down from the rock, she then hugs a man when she is down.',\n",
       "  'a man going down a rock cliff using a harness and rope with another person nearby',\n",
       "  'A woman is narrating in the background as mountain climbers scale the side of a mountain.',\n",
       "  'A woman is talking as people are using ropes lo lower themselves down a mountain.',\n",
       "  'A group of people watch as woman scales down the side of a mountain.',\n",
       "  'A woman climbs on a rock formation using safety ropes to protect her.']}"
      ]
     },
     "execution_count": 10,
     "metadata": {},
     "output_type": "execute_result"
    }
   ],
   "source": [
    "data[0]"
   ]
  },
  {
   "cell_type": "code",
   "execution_count": 11,
   "id": "6a7712e6-6ba1-45f4-bb03-ecc9025eb555",
   "metadata": {},
   "outputs": [],
   "source": [
    "captions = []\n",
    "for x in data:\n",
    "    captions.extend(x[\"enCap\"])"
   ]
  },
  {
   "cell_type": "code",
   "execution_count": 12,
   "id": "f6bfca6e-bbfd-4b6e-a925-a779d49fdeed",
   "metadata": {},
   "outputs": [
    {
     "data": {
      "text/plain": [
       "289910"
      ]
     },
     "execution_count": 12,
     "metadata": {},
     "output_type": "execute_result"
    }
   ],
   "source": [
    "len(captions)"
   ]
  },
  {
   "cell_type": "code",
   "execution_count": 14,
   "id": "6fc94e1f-23d7-4d9d-b497-04c7e693d31a",
   "metadata": {},
   "outputs": [
    {
     "name": "stderr",
     "output_type": "stream",
     "text": [
      "Getting temporal sentences for keywords: 100%|████████████████████████████████████████████████| 6/6 [00:00<00:00,  9.53it/s]\n"
     ]
    }
   ],
   "source": [
    "temporal_captions = get_temporal_sentences_by_keyword(captions, temporal_keywords)"
   ]
  },
  {
   "cell_type": "code",
   "execution_count": 17,
   "id": "b9ef286f-a111-482c-a796-b1bf205254d1",
   "metadata": {},
   "outputs": [
    {
     "data": {
      "text/plain": [
       "(6, 1637)"
      ]
     },
     "execution_count": 17,
     "metadata": {},
     "output_type": "execute_result"
    }
   ],
   "source": [
    "len(temporal_captions), len(temporal_captions[\"after\"])"
   ]
  },
  {
   "cell_type": "code",
   "execution_count": 24,
   "id": "e3882a53-64be-4ab9-a858-fade158fe7e2",
   "metadata": {},
   "outputs": [
    {
     "data": {
      "image/png": "[encoded data removed]",
      "text/plain": [
       "<Figure size 720x504 with 1 Axes>"
      ]
     },
     "metadata": {
      "needs_background": "light"
     },
     "output_type": "display_data"
    }
   ],
   "source": [
    "plot_distribution_of_temporal_sentences(temporal_captions, \"VATEX\", yoffsets=-2000)"
   ]
  },
  {
   "cell_type": "code",
   "execution_count": null,
   "id": "89e05616-1587-41fa-89ff-ff2fa1601a51",
   "metadata": {},
   "outputs": [],
   "source": []
  }
 ],
 "metadata": {
  "kernelspec": {
   "display_name": "Python 3 (ipykernel)",
   "language": "python",
   "name": "python3"
  },
  "language_info": {
   "codemirror_mode": {
    "name": "ipython",
    "version": 3
   },
   "file_extension": ".py",
   "mimetype": "text/x-python",
   "name": "python",
   "nbconvert_exporter": "python",
   "pygments_lexer": "ipython3",
   "version": "3.9.12"
  }
 },
 "nbformat": 4,
 "nbformat_minor": 5
}
