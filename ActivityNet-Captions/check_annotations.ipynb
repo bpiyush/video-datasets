{
 "cells": [
  {
   "cell_type": "code",
   "execution_count": null,
   "id": "3443a77c-7b7c-4d3f-8f7b-6338ddb3d5c8",
   "metadata": {},
   "outputs": [],
   "source": []
  },
  {
   "cell_type": "code",
   "execution_count": 1,
   "id": "925203e9-0ad0-4c4b-b12f-fa483714a4ac",
   "metadata": {},
   "outputs": [],
   "source": [
    "%load_ext autoreload\n",
    "%autoreload 2"
   ]
  },
  {
   "cell_type": "code",
   "execution_count": 47,
   "id": "ba249077-25da-4806-ad01-099fa3d0f0b3",
   "metadata": {},
   "outputs": [],
   "source": [
    "from os.path import join\n",
    "import numpy as np\n",
    "from collections import defaultdict\n",
    "import matplotlib.pyplot as plt\n",
    "\n",
    "from utils.io import load_json\n",
    "from utils.visualize import set_latex_fonts\n",
    "from utils.text import (\n",
    "    get_temporal_sentences_by_keyword,\n",
    "    temporal_keywords,\n",
    "    plot_distribution_of_temporal_sentences,\n",
    "    plot_temporal_sentences_fraction,\n",
    ")"
   ]
  },
  {
   "cell_type": "code",
   "execution_count": 3,
   "id": "2dad9087-b174-4e5e-8855-dab4fa736577",
   "metadata": {},
   "outputs": [],
   "source": [
    "# set_latex_fonts(show_sample=True)"
   ]
  },
  {
   "cell_type": "code",
   "execution_count": 4,
   "id": "29e914b1-8b43-430a-8ad1-6fe0cce7eff3",
   "metadata": {},
   "outputs": [],
   "source": [
    "data_root = \"/ssd/pbagad/datasets/activitynet-1.3/annotations/\"\n",
    "\n",
    "train = load_json(join(data_root, \"captions\", \"train.json\"))\n",
    "val = load_json(join(data_root, \"captions\", \"val_1.json\"))"
   ]
  },
  {
   "cell_type": "code",
   "execution_count": 6,
   "id": "cfdd70c0-37c8-4c66-9fad-0fb08f9545b0",
   "metadata": {},
   "outputs": [
    {
     "data": {
      "text/plain": [
       "(10009, 4917)"
      ]
     },
     "execution_count": 6,
     "metadata": {},
     "output_type": "execute_result"
    }
   ],
   "source": [
    "len(train), len(val)"
   ]
  },
  {
   "cell_type": "code",
   "execution_count": 7,
   "id": "1bb83dc8-3fbf-4ba7-9e75-68d2db289f8d",
   "metadata": {},
   "outputs": [
    {
     "data": {
      "text/plain": [
       "['v_uqiMw7tQ1Cc',\n",
       " 'v_bXdq2zI1Ms0',\n",
       " 'v_FsS_NCZEfaI',\n",
       " 'v_K6Tm5xHkJ5c',\n",
       " 'v_4Lu8ECLHvK4',\n",
       " 'v_HWV_ccmZVPA',\n",
       " 'v_GGSY1Qvo990',\n",
       " 'v_frePM0YGtQE',\n",
       " 'v_JTrwGfPJNzU',\n",
       " 'v_gOniW-yEZ0k']"
      ]
     },
     "execution_count": 7,
     "metadata": {},
     "output_type": "execute_result"
    }
   ],
   "source": [
    "list(val.keys())[:10]"
   ]
  },
  {
   "cell_type": "code",
   "execution_count": 9,
   "id": "5ff5faa7-c0b4-4c54-8d58-d37355c29890",
   "metadata": {},
   "outputs": [
    {
     "data": {
      "text/plain": [
       "['Several shots of boats are shown riding around as well as people riding on the boats and speaking to one another.',\n",
       " ' Several shots are then shown of people sitting on the water as well as life under the water.',\n",
       " ' The camera pans around old cars under water as well as people in the area.']"
      ]
     },
     "execution_count": 9,
     "metadata": {},
     "output_type": "execute_result"
    }
   ],
   "source": [
    "val[\"v_FsS_NCZEfaI\"][\"sentences\"]"
   ]
  },
  {
   "cell_type": "code",
   "execution_count": 10,
   "id": "e27b5452-e1c8-49d5-b0ef-8b80e9611fd5",
   "metadata": {},
   "outputs": [],
   "source": [
    "data = {**train, **val}\n",
    "\n",
    "sentences = []\n",
    "for key, value in data.items():\n",
    "    sentences.extend(value[\"sentences\"])"
   ]
  },
  {
   "cell_type": "code",
   "execution_count": 11,
   "id": "85f14bee-9ad2-460b-9242-241c0f205aab",
   "metadata": {},
   "outputs": [
    {
     "data": {
      "text/plain": [
       "54926"
      ]
     },
     "execution_count": 11,
     "metadata": {},
     "output_type": "execute_result"
    }
   ],
   "source": [
    "len(sentences)"
   ]
  },
  {
   "cell_type": "code",
   "execution_count": 12,
   "id": "87d00213-2174-4d3f-9f58-bfdd0e46c019",
   "metadata": {},
   "outputs": [
    {
     "data": {
      "text/plain": [
       "['A young woman is seen standing in a room and leads into her dancing.',\n",
       " ' The girl dances around the room while the camera captures her movements.',\n",
       " ' She continues dancing around the room and ends by laying on the floor.',\n",
       " 'The video starts with a title logo sequence.',\n",
       " ' A man and woman are in a living room demonstrating exercises.',\n",
       " ' The woman lays on the ground.',\n",
       " \" The man starts pointing to different areas of the woman's body as she does an exercise.\",\n",
       " ' The woman begins to do small sit ups.',\n",
       " ' The woman ends with a final title logo sequence.',\n",
       " 'Two people are seen moving around a kitchen quickly performing various tasks and sitting down.']"
      ]
     },
     "execution_count": 12,
     "metadata": {},
     "output_type": "execute_result"
    }
   ],
   "source": [
    "sentences[:10]"
   ]
  },
  {
   "cell_type": "code",
   "execution_count": 18,
   "id": "888fb88d-5ed6-435b-b33c-6d57b8c6d014",
   "metadata": {},
   "outputs": [
    {
     "name": "stderr",
     "output_type": "stream",
     "text": [
      "Getting temporal sentences for keywords: 100%|████████████████████████████████████████████████| 6/6 [00:00<00:00, 36.05it/s]\n"
     ]
    }
   ],
   "source": [
    "temporal_sentences = get_temporal_sentences_by_keyword(\n",
    "    sentences, temporal_keywords,\n",
    ")"
   ]
  },
  {
   "cell_type": "code",
   "execution_count": 19,
   "id": "b56d96b3-3761-4692-b6c6-86c801a630f7",
   "metadata": {},
   "outputs": [
    {
     "data": {
      "text/plain": [
       "6"
      ]
     },
     "execution_count": 19,
     "metadata": {},
     "output_type": "execute_result"
    }
   ],
   "source": [
    "len(temporal_sentences)"
   ]
  },
  {
   "cell_type": "code",
   "execution_count": 22,
   "id": "869fcf17-ae41-4b01-9421-cc815a941e66",
   "metadata": {},
   "outputs": [
    {
     "data": {
      "text/plain": [
       "(1276, 861)"
      ]
     },
     "execution_count": 22,
     "metadata": {},
     "output_type": "execute_result"
    }
   ],
   "source": [
    "len(temporal_sentences[\"after\"]), len(temporal_sentences[\"before\"])"
   ]
  },
  {
   "cell_type": "code",
   "execution_count": 40,
   "id": "e4a57fc5-7a1f-4137-9585-54f2b9542545",
   "metadata": {},
   "outputs": [
    {
     "data": {
      "image/png": "[encoded data removed]",
      "text/plain": [
       "<Figure size 720x504 with 1 Axes>"
      ]
     },
     "metadata": {
      "needs_background": "light"
     },
     "output_type": "display_data"
    }
   ],
   "source": [
    "plot_distribution_of_temporal_sentences(\n",
    "    temporal_sentences, \"ActivityNet-Captions\", yoffsets={\"As soon as\": 200, \"During\": 200},\n",
    ")"
   ]
  },
  {
   "cell_type": "code",
   "execution_count": 43,
   "id": "5d12963c-55bd-4171-802a-5684aa4d8430",
   "metadata": {},
   "outputs": [],
   "source": [
    "total_temporal_sentences = sum([len(v) for _, v in temporal_sentences.items()])\n",
    "total_sentences = len(sentences)"
   ]
  },
  {
   "cell_type": "code",
   "execution_count": 50,
   "id": "eb6ffea2-b980-4d0a-9588-7d0cd30ef030",
   "metadata": {},
   "outputs": [
    {
     "data": {
      "text/plain": [
       "(13513, 54926)"
      ]
     },
     "execution_count": 50,
     "metadata": {},
     "output_type": "execute_result"
    }
   ],
   "source": [
    "total_temporal_sentences, total_sentences"
   ]
  },
  {
   "cell_type": "code",
   "execution_count": 44,
   "id": "99f7ed3d-7ec1-4850-bea3-22700e6d8365",
   "metadata": {},
   "outputs": [],
   "source": [
    "temporal_sentences_fraction = {k: len(v) / total_sentences for k, v in temporal_sentences.items()}"
   ]
  },
  {
   "cell_type": "code",
   "execution_count": 45,
   "id": "17afdc47-406b-46c9-8047-3883f7e41886",
   "metadata": {},
   "outputs": [
    {
     "data": {
      "text/plain": [
       "{'after': 0.023231256599788808,\n",
       " 'before': 0.01567563631067254,\n",
       " 'then': 0.12358445909041256,\n",
       " 'while': 0.08138222335505954,\n",
       " 'during': 0.0020026945344645522,\n",
       " 'as soon as': 0.000145650511597422}"
      ]
     },
     "execution_count": 45,
     "metadata": {},
     "output_type": "execute_result"
    }
   ],
   "source": [
    "temporal_sentences_fraction"
   ]
  },
  {
   "cell_type": "code",
   "execution_count": 49,
   "id": "d3ef7855-ce19-4ec6-bd0b-c2ab287724f3",
   "metadata": {},
   "outputs": [
    {
     "data": {
      "image/png": "[encoded data removed]",
      "text/plain": [
       "<Figure size 720x504 with 1 Axes>"
      ]
     },
     "metadata": {
      "needs_background": "light"
     },
     "output_type": "display_data"
    }
   ],
   "source": [
    "plot_temporal_sentences_fraction(temporal_sentences_fraction, \"ActivityNet-Captions\", total_sentences)"
   ]
  },
  {
   "cell_type": "code",
   "execution_count": null,
   "id": "571ee194-64ee-4020-9811-0417e7dc8a54",
   "metadata": {},
   "outputs": [],
   "source": []
  }
 ],
 "metadata": {
  "kernelspec": {
   "display_name": "Python 3 (ipykernel)",
   "language": "python",
   "name": "python3"
  },
  "language_info": {
   "codemirror_mode": {
    "name": "ipython",
    "version": 3
   },
   "file_extension": ".py",
   "mimetype": "text/x-python",
   "name": "python",
   "nbconvert_exporter": "python",
   "pygments_lexer": "ipython3",
   "version": "3.9.12"
  }
 },
 "nbformat": 4,
 "nbformat_minor": 5
}
