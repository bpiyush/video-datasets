{
 "cells": [
  {
   "cell_type": "code",
   "execution_count": 1,
   "id": "a4e33574-b0ad-413c-b603-ee9da21df024",
   "metadata": {},
   "outputs": [],
   "source": [
    "%load_ext autoreload\n",
    "%autoreload 2"
   ]
  },
  {
   "cell_type": "code",
   "execution_count": 2,
   "id": "ce8ce0d8-b58e-4efa-ac3a-22cdbee4a945",
   "metadata": {},
   "outputs": [],
   "source": [
    "import os\n",
    "from os.path import join\n",
    "import json\n",
    "import h5py\n",
    "import pprint\n",
    "import numpy as np\n",
    "from collections import defaultdict\n",
    "import matplotlib.pyplot as plt\n",
    "from tqdm import tqdm\n",
    "import pandas as pd\n",
    "\n",
    "from utils.io import load_json, save_json"
   ]
  },
  {
   "cell_type": "markdown",
   "id": "96235061-ff5c-400d-b418-adefec35e2d0",
   "metadata": {},
   "source": [
    "#### Fix seed"
   ]
  },
  {
   "cell_type": "code",
   "execution_count": 3,
   "id": "a7e27d11-7750-4843-b0b7-1d66f79fbebe",
   "metadata": {},
   "outputs": [],
   "source": [
    "np.random.seed(0)"
   ]
  },
  {
   "cell_type": "markdown",
   "id": "1fa37c73-0c31-48c2-b1d1-2a02263e925e",
   "metadata": {},
   "source": [
    "### Load data file"
   ]
  },
  {
   "cell_type": "code",
   "execution_count": 4,
   "id": "7b6a2917-7f94-452b-ba93-8119c4530257",
   "metadata": {},
   "outputs": [],
   "source": [
    "# set data root\n",
    "data_root = \"/var/scratch/pbagad/datasets/howto100m/\"\n",
    "\n",
    "# # load annotations\n",
    "# annotations = load_json(join(data_root, \"caption.json\"))"
   ]
  },
  {
   "cell_type": "code",
   "execution_count": 5,
   "id": "046546e8-617c-4eea-962a-d2a0baba226c",
   "metadata": {},
   "outputs": [],
   "source": [
    "df = pd.read_csv(join(data_root, \"HowTo100M_v1.csv\"))"
   ]
  },
  {
   "cell_type": "code",
   "execution_count": 6,
   "id": "039dd838-e2d0-40fc-812e-673f8c32240a",
   "metadata": {},
   "outputs": [
    {
     "data": {
      "text/plain": [
       "(1238911, 5)"
      ]
     },
     "execution_count": 6,
     "metadata": {},
     "output_type": "execute_result"
    }
   ],
   "source": [
    "df.shape"
   ]
  },
  {
   "cell_type": "code",
   "execution_count": 7,
   "id": "5a294359-9f85-49bf-893e-9726e7f98c47",
   "metadata": {},
   "outputs": [
    {
     "data": {
      "text/plain": [
       "Index(['video_id', 'category_1', 'category_2', 'rank', 'task_id'], dtype='object')"
      ]
     },
     "execution_count": 7,
     "metadata": {},
     "output_type": "execute_result"
    }
   ],
   "source": [
    "df.columns"
   ]
  },
  {
   "cell_type": "code",
   "execution_count": 8,
   "id": "00566471-9268-4619-befa-f24285cb430b",
   "metadata": {},
   "outputs": [
    {
     "data": {
      "text/html": [
       "<div>\n",
       "<style scoped>\n",
       "    .dataframe tbody tr th:only-of-type {\n",
       "        vertical-align: middle;\n",
       "    }\n",
       "\n",
       "    .dataframe tbody tr th {\n",
       "        vertical-align: top;\n",
       "    }\n",
       "\n",
       "    .dataframe thead th {\n",
       "        text-align: right;\n",
       "    }\n",
       "</style>\n",
       "<table border=\"1\" class=\"dataframe\">\n",
       "  <thead>\n",
       "    <tr style=\"text-align: right;\">\n",
       "      <th></th>\n",
       "      <th>video_id</th>\n",
       "      <th>category_1</th>\n",
       "      <th>category_2</th>\n",
       "      <th>rank</th>\n",
       "      <th>task_id</th>\n",
       "    </tr>\n",
       "  </thead>\n",
       "  <tbody>\n",
       "    <tr>\n",
       "      <th>0</th>\n",
       "      <td>nVbIUDjzWY4</td>\n",
       "      <td>Cars &amp; Other Vehicles</td>\n",
       "      <td>Motorcycles</td>\n",
       "      <td>27</td>\n",
       "      <td>52907</td>\n",
       "    </tr>\n",
       "    <tr>\n",
       "      <th>1</th>\n",
       "      <td>CTPAZ2euJ2Q</td>\n",
       "      <td>Cars &amp; Other Vehicles</td>\n",
       "      <td>Motorcycles</td>\n",
       "      <td>35</td>\n",
       "      <td>109057</td>\n",
       "    </tr>\n",
       "    <tr>\n",
       "      <th>2</th>\n",
       "      <td>rwmt7Cbuvfs</td>\n",
       "      <td>Cars &amp; Other Vehicles</td>\n",
       "      <td>Motorcycles</td>\n",
       "      <td>99</td>\n",
       "      <td>52907</td>\n",
       "    </tr>\n",
       "    <tr>\n",
       "      <th>3</th>\n",
       "      <td>HnTLh99gcxY</td>\n",
       "      <td>Cars &amp; Other Vehicles</td>\n",
       "      <td>Motorcycles</td>\n",
       "      <td>35</td>\n",
       "      <td>52907</td>\n",
       "    </tr>\n",
       "    <tr>\n",
       "      <th>4</th>\n",
       "      <td>EyP3HVhg1u0</td>\n",
       "      <td>Cars &amp; Other Vehicles</td>\n",
       "      <td>Motorcycles</td>\n",
       "      <td>95</td>\n",
       "      <td>52906</td>\n",
       "    </tr>\n",
       "    <tr>\n",
       "      <th>...</th>\n",
       "      <td>...</td>\n",
       "      <td>...</td>\n",
       "      <td>...</td>\n",
       "      <td>...</td>\n",
       "      <td>...</td>\n",
       "    </tr>\n",
       "    <tr>\n",
       "      <th>1238906</th>\n",
       "      <td>tVc0qvCeVfQ</td>\n",
       "      <td>Hobbies and Crafts</td>\n",
       "      <td>Crafts</td>\n",
       "      <td>41</td>\n",
       "      <td>38941</td>\n",
       "    </tr>\n",
       "    <tr>\n",
       "      <th>1238907</th>\n",
       "      <td>gIURSGIXX0Y</td>\n",
       "      <td>Hobbies and Crafts</td>\n",
       "      <td>Crafts</td>\n",
       "      <td>11</td>\n",
       "      <td>37466</td>\n",
       "    </tr>\n",
       "    <tr>\n",
       "      <th>1238908</th>\n",
       "      <td>gHTVgMEpR2Q</td>\n",
       "      <td>Food and Entertaining</td>\n",
       "      <td>Recipes</td>\n",
       "      <td>1</td>\n",
       "      <td>101069</td>\n",
       "    </tr>\n",
       "    <tr>\n",
       "      <th>1238909</th>\n",
       "      <td>_97kyZVWVG0</td>\n",
       "      <td>Hobbies and Crafts</td>\n",
       "      <td>Crafts</td>\n",
       "      <td>34</td>\n",
       "      <td>119814</td>\n",
       "    </tr>\n",
       "    <tr>\n",
       "      <th>1238910</th>\n",
       "      <td>gkjnR3-ZVts</td>\n",
       "      <td>Food and Entertaining</td>\n",
       "      <td>Drinks</td>\n",
       "      <td>6</td>\n",
       "      <td>25938</td>\n",
       "    </tr>\n",
       "  </tbody>\n",
       "</table>\n",
       "<p>1238911 rows × 5 columns</p>\n",
       "</div>"
      ],
      "text/plain": [
       "            video_id             category_1   category_2  rank  task_id\n",
       "0        nVbIUDjzWY4  Cars & Other Vehicles  Motorcycles    27    52907\n",
       "1        CTPAZ2euJ2Q  Cars & Other Vehicles  Motorcycles    35   109057\n",
       "2        rwmt7Cbuvfs  Cars & Other Vehicles  Motorcycles    99    52907\n",
       "3        HnTLh99gcxY  Cars & Other Vehicles  Motorcycles    35    52907\n",
       "4        EyP3HVhg1u0  Cars & Other Vehicles  Motorcycles    95    52906\n",
       "...              ...                    ...          ...   ...      ...\n",
       "1238906  tVc0qvCeVfQ     Hobbies and Crafts       Crafts    41    38941\n",
       "1238907  gIURSGIXX0Y     Hobbies and Crafts       Crafts    11    37466\n",
       "1238908  gHTVgMEpR2Q  Food and Entertaining      Recipes     1   101069\n",
       "1238909  _97kyZVWVG0     Hobbies and Crafts       Crafts    34   119814\n",
       "1238910  gkjnR3-ZVts  Food and Entertaining       Drinks     6    25938\n",
       "\n",
       "[1238911 rows x 5 columns]"
      ]
     },
     "execution_count": 8,
     "metadata": {},
     "output_type": "execute_result"
    }
   ],
   "source": [
    "df"
   ]
  },
  {
   "cell_type": "code",
   "execution_count": 9,
   "id": "8dedb9e1-0f95-4d79-8612-9a3b5bbad06b",
   "metadata": {},
   "outputs": [],
   "source": [
    "task_df = pd.read_csv(join(data_root, \"task_ids.csv\"), delimiter=\"\\t\", header=None)"
   ]
  },
  {
   "cell_type": "code",
   "execution_count": 10,
   "id": "4cfa2830-e7a4-4e70-9b9f-5a807bd9d3db",
   "metadata": {},
   "outputs": [
    {
     "data": {
      "text/plain": [
       "123520"
      ]
     },
     "execution_count": 10,
     "metadata": {},
     "output_type": "execute_result"
    }
   ],
   "source": [
    "len(task_df)"
   ]
  },
  {
   "cell_type": "markdown",
   "id": "81a6629b-e5f2-4ff7-87f8-4b8857514a87",
   "metadata": {},
   "source": [
    "### Select subset to download"
   ]
  },
  {
   "cell_type": "code",
   "execution_count": 11,
   "id": "ea9ba118-d89d-4fb2-b9e1-d0d41ca8c0a3",
   "metadata": {},
   "outputs": [
    {
     "data": {
      "text/plain": [
       "(20, 143)"
      ]
     },
     "execution_count": 11,
     "metadata": {},
     "output_type": "execute_result"
    }
   ],
   "source": [
    "len(df.category_1.unique()), len(df.category_2.unique())"
   ]
  },
  {
   "cell_type": "code",
   "execution_count": 12,
   "id": "f41382fb-7dd2-4fd2-a04a-7d2d763fb4a6",
   "metadata": {},
   "outputs": [
    {
     "data": {
      "text/plain": [
       "25312"
      ]
     },
     "execution_count": 12,
     "metadata": {},
     "output_type": "execute_result"
    }
   ],
   "source": [
    "len(df.task_id.unique())"
   ]
  },
  {
   "cell_type": "code",
   "execution_count": 13,
   "id": "eac6251f-e8e2-402d-83fb-317100bb9760",
   "metadata": {},
   "outputs": [
    {
     "name": "stdout",
     "output_type": "stream",
     "text": [
      "Number of tasks with > 1k videos each:  1138\n"
     ]
    }
   ],
   "source": [
    "print(\"Number of tasks with > 1k videos each: \", sum(df.task_id.value_counts() > 100))"
   ]
  },
  {
   "cell_type": "code",
   "execution_count": 14,
   "id": "11d649a1-b630-4243-93ac-94dfe7418e26",
   "metadata": {},
   "outputs": [
    {
     "data": {
      "text/plain": [
       "(25312, 123520, True)"
      ]
     },
     "execution_count": 14,
     "metadata": {},
     "output_type": "execute_result"
    }
   ],
   "source": [
    "len(df.task_id.unique()), len(task_df[0].unique()), set(df.task_id.unique()).issubset(set(task_df[0].unique()))"
   ]
  },
  {
   "cell_type": "code",
   "execution_count": 15,
   "id": "b0f2189e-174c-4723-a0c0-0536845bbc0f",
   "metadata": {},
   "outputs": [],
   "source": [
    "# get tasks with > 100 videos\n",
    "s = (df.task_id.value_counts() > 100)\n",
    "populous_tasks = s[s].index.values"
   ]
  },
  {
   "cell_type": "code",
   "execution_count": 16,
   "id": "83e9def2-6b88-4060-ba0e-137911f2f58a",
   "metadata": {},
   "outputs": [],
   "source": [
    "K = 1000\n",
    "\n",
    "# select K tasks\n",
    "selected_task_ids = sorted(np.random.choice(populous_tasks, K, replace=False))\n",
    "\n",
    "# select N videos per task\n",
    "N = 100"
   ]
  },
  {
   "cell_type": "code",
   "execution_count": 17,
   "id": "e66f4293-8618-4eac-80eb-6f103eca779a",
   "metadata": {},
   "outputs": [],
   "source": [
    "# selected_video_ids = []\n",
    "selected_indices = []\n",
    "\n",
    "for task_id in selected_task_ids:\n",
    "    rows = df[df.task_id.isin([task_id])]\n",
    "    selected_indices_k = np.random.choice(rows.index, N, replace=False)\n",
    "    # video_ids = rows.video_id\n",
    "    # selected_video_ids_k = np.random.choice(video_ids, N, replace=False)\n",
    "    selected_indices.extend(selected_indices_k)\n",
    "    # break\n",
    "selected_indices = sorted(selected_indices)"
   ]
  },
  {
   "cell_type": "code",
   "execution_count": 18,
   "id": "930f5388-85d1-4f02-9250-57808e3f5b01",
   "metadata": {},
   "outputs": [
    {
     "data": {
      "text/plain": [
       "100000"
      ]
     },
     "execution_count": 18,
     "metadata": {},
     "output_type": "execute_result"
    }
   ],
   "source": [
    "len(selected_indices)"
   ]
  },
  {
   "cell_type": "code",
   "execution_count": 19,
   "id": "9dad4b50-6d09-40af-a6dc-f52711a8c7d9",
   "metadata": {},
   "outputs": [],
   "source": [
    "subdf = df[df.index.isin(selected_indices)]"
   ]
  },
  {
   "cell_type": "code",
   "execution_count": 20,
   "id": "279b662d-178a-4dc5-8465-2955f9bb9cef",
   "metadata": {},
   "outputs": [
    {
     "data": {
      "text/plain": [
       "(100000, 5)"
      ]
     },
     "execution_count": 20,
     "metadata": {},
     "output_type": "execute_result"
    }
   ],
   "source": [
    "subdf.shape"
   ]
  },
  {
   "cell_type": "code",
   "execution_count": 21,
   "id": "11f0290a-e596-45f8-8576-bde6362e05fb",
   "metadata": {},
   "outputs": [
    {
     "name": "stderr",
     "output_type": "stream",
     "text": [
      "/tmp/ipykernel_3089747/1984947929.py:1: SettingWithCopyWarning: \n",
      "A value is trying to be set on a copy of a slice from a DataFrame.\n",
      "Try using .loc[row_indexer,col_indexer] = value instead\n",
      "\n",
      "See the caveats in the documentation: https://pandas.pydata.org/pandas-docs/stable/user_guide/indexing.html#returning-a-view-versus-a-copy\n",
      "  subdf[\"original_index\"] = subdf.index.copy()\n"
     ]
    }
   ],
   "source": [
    "subdf[\"original_index\"] = subdf.index.copy()\n",
    "subdf.set_index(pd.Series(np.arange(len(subdf))), inplace=True)"
   ]
  },
  {
   "cell_type": "code",
   "execution_count": 22,
   "id": "b880d537-15bb-4f39-aaf6-e8a904f8e66b",
   "metadata": {},
   "outputs": [
    {
     "data": {
      "text/html": [
       "<div>\n",
       "<style scoped>\n",
       "    .dataframe tbody tr th:only-of-type {\n",
       "        vertical-align: middle;\n",
       "    }\n",
       "\n",
       "    .dataframe tbody tr th {\n",
       "        vertical-align: top;\n",
       "    }\n",
       "\n",
       "    .dataframe thead th {\n",
       "        text-align: right;\n",
       "    }\n",
       "</style>\n",
       "<table border=\"1\" class=\"dataframe\">\n",
       "  <thead>\n",
       "    <tr style=\"text-align: right;\">\n",
       "      <th></th>\n",
       "      <th>video_id</th>\n",
       "      <th>category_1</th>\n",
       "      <th>category_2</th>\n",
       "      <th>rank</th>\n",
       "      <th>task_id</th>\n",
       "      <th>original_index</th>\n",
       "    </tr>\n",
       "  </thead>\n",
       "  <tbody>\n",
       "    <tr>\n",
       "      <th>0</th>\n",
       "      <td>sPevb2NYGzg</td>\n",
       "      <td>Cars &amp; Other Vehicles</td>\n",
       "      <td>Motorcycles</td>\n",
       "      <td>114</td>\n",
       "      <td>17548</td>\n",
       "      <td>39</td>\n",
       "    </tr>\n",
       "    <tr>\n",
       "      <th>1</th>\n",
       "      <td>S3ZdC7EcfMs</td>\n",
       "      <td>Cars &amp; Other Vehicles</td>\n",
       "      <td>Motorcycles</td>\n",
       "      <td>9</td>\n",
       "      <td>89240</td>\n",
       "      <td>59</td>\n",
       "    </tr>\n",
       "    <tr>\n",
       "      <th>2</th>\n",
       "      <td>SPLBLFqPMoA</td>\n",
       "      <td>Food and Entertaining</td>\n",
       "      <td>Recipes</td>\n",
       "      <td>132</td>\n",
       "      <td>99751</td>\n",
       "      <td>91</td>\n",
       "    </tr>\n",
       "    <tr>\n",
       "      <th>3</th>\n",
       "      <td>ohf6NGQtD-0</td>\n",
       "      <td>Family Life</td>\n",
       "      <td>Parenting</td>\n",
       "      <td>148</td>\n",
       "      <td>16001</td>\n",
       "      <td>350</td>\n",
       "    </tr>\n",
       "    <tr>\n",
       "      <th>4</th>\n",
       "      <td>Bspn6RepEVk</td>\n",
       "      <td>Family Life</td>\n",
       "      <td>Parenting</td>\n",
       "      <td>155</td>\n",
       "      <td>16001</td>\n",
       "      <td>353</td>\n",
       "    </tr>\n",
       "    <tr>\n",
       "      <th>...</th>\n",
       "      <td>...</td>\n",
       "      <td>...</td>\n",
       "      <td>...</td>\n",
       "      <td>...</td>\n",
       "      <td>...</td>\n",
       "      <td>...</td>\n",
       "    </tr>\n",
       "    <tr>\n",
       "      <th>99995</th>\n",
       "      <td>7Ml7hinhbRI</td>\n",
       "      <td>Cars &amp; Other Vehicles</td>\n",
       "      <td>Boats</td>\n",
       "      <td>76</td>\n",
       "      <td>8534</td>\n",
       "      <td>1238516</td>\n",
       "    </tr>\n",
       "    <tr>\n",
       "      <th>99996</th>\n",
       "      <td>LBaSWl8ZEpw</td>\n",
       "      <td>Cars &amp; Other Vehicles</td>\n",
       "      <td>Cars</td>\n",
       "      <td>38</td>\n",
       "      <td>95134</td>\n",
       "      <td>1238626</td>\n",
       "    </tr>\n",
       "    <tr>\n",
       "      <th>99997</th>\n",
       "      <td>H9iBp6XSchc</td>\n",
       "      <td>Cars &amp; Other Vehicles</td>\n",
       "      <td>Cars</td>\n",
       "      <td>7</td>\n",
       "      <td>95134</td>\n",
       "      <td>1238627</td>\n",
       "    </tr>\n",
       "    <tr>\n",
       "      <th>99998</th>\n",
       "      <td>MESXtTwvQ2c</td>\n",
       "      <td>Cars &amp; Other Vehicles</td>\n",
       "      <td>Cars</td>\n",
       "      <td>22</td>\n",
       "      <td>95134</td>\n",
       "      <td>1238628</td>\n",
       "    </tr>\n",
       "    <tr>\n",
       "      <th>99999</th>\n",
       "      <td>D2rjrr6y7pU</td>\n",
       "      <td>Hobbies and Crafts</td>\n",
       "      <td>Photography</td>\n",
       "      <td>22</td>\n",
       "      <td>2864</td>\n",
       "      <td>1238837</td>\n",
       "    </tr>\n",
       "  </tbody>\n",
       "</table>\n",
       "<p>100000 rows × 6 columns</p>\n",
       "</div>"
      ],
      "text/plain": [
       "          video_id             category_1   category_2  rank  task_id  \\\n",
       "0      sPevb2NYGzg  Cars & Other Vehicles  Motorcycles   114    17548   \n",
       "1      S3ZdC7EcfMs  Cars & Other Vehicles  Motorcycles     9    89240   \n",
       "2      SPLBLFqPMoA  Food and Entertaining      Recipes   132    99751   \n",
       "3      ohf6NGQtD-0            Family Life    Parenting   148    16001   \n",
       "4      Bspn6RepEVk            Family Life    Parenting   155    16001   \n",
       "...            ...                    ...          ...   ...      ...   \n",
       "99995  7Ml7hinhbRI  Cars & Other Vehicles        Boats    76     8534   \n",
       "99996  LBaSWl8ZEpw  Cars & Other Vehicles         Cars    38    95134   \n",
       "99997  H9iBp6XSchc  Cars & Other Vehicles         Cars     7    95134   \n",
       "99998  MESXtTwvQ2c  Cars & Other Vehicles         Cars    22    95134   \n",
       "99999  D2rjrr6y7pU     Hobbies and Crafts  Photography    22     2864   \n",
       "\n",
       "       original_index  \n",
       "0                  39  \n",
       "1                  59  \n",
       "2                  91  \n",
       "3                 350  \n",
       "4                 353  \n",
       "...               ...  \n",
       "99995         1238516  \n",
       "99996         1238626  \n",
       "99997         1238627  \n",
       "99998         1238628  \n",
       "99999         1238837  \n",
       "\n",
       "[100000 rows x 6 columns]"
      ]
     },
     "execution_count": 22,
     "metadata": {},
     "output_type": "execute_result"
    }
   ],
   "source": [
    "subdf"
   ]
  },
  {
   "cell_type": "code",
   "execution_count": 23,
   "id": "d86680b7-6bde-4bf9-8b72-575b85958052",
   "metadata": {},
   "outputs": [],
   "source": [
    "split_dir = join(data_root, \"subsets\")\n",
    "os.makedirs(split_dir, exist_ok=True)\n",
    "\n",
    "split_path = join(split_dir, \"HowTo100M_v1-v1.0_100k.csv\")\n",
    "subdf.to_csv(split_path, index=False)"
   ]
  },
  {
   "cell_type": "code",
   "execution_count": 24,
   "id": "ef07c963-f1ca-4484-92f0-9980d5b22d58",
   "metadata": {},
   "outputs": [],
   "source": [
    "split = pd.read_csv(split_path)"
   ]
  },
  {
   "cell_type": "code",
   "execution_count": 25,
   "id": "a0de5ed4-badc-4ffa-837b-36b9f60e1c09",
   "metadata": {},
   "outputs": [
    {
     "data": {
      "text/plain": [
       "(100000, 6)"
      ]
     },
     "execution_count": 25,
     "metadata": {},
     "output_type": "execute_result"
    }
   ],
   "source": [
    "split.shape"
   ]
  },
  {
   "cell_type": "code",
   "execution_count": 26,
   "id": "5131e4ac-b496-4da1-94cb-d4cb0cde9648",
   "metadata": {},
   "outputs": [
    {
     "data": {
      "text/html": [
       "<div>\n",
       "<style scoped>\n",
       "    .dataframe tbody tr th:only-of-type {\n",
       "        vertical-align: middle;\n",
       "    }\n",
       "\n",
       "    .dataframe tbody tr th {\n",
       "        vertical-align: top;\n",
       "    }\n",
       "\n",
       "    .dataframe thead th {\n",
       "        text-align: right;\n",
       "    }\n",
       "</style>\n",
       "<table border=\"1\" class=\"dataframe\">\n",
       "  <thead>\n",
       "    <tr style=\"text-align: right;\">\n",
       "      <th></th>\n",
       "      <th>video_id</th>\n",
       "      <th>category_1</th>\n",
       "      <th>category_2</th>\n",
       "      <th>rank</th>\n",
       "      <th>task_id</th>\n",
       "      <th>original_index</th>\n",
       "    </tr>\n",
       "  </thead>\n",
       "  <tbody>\n",
       "    <tr>\n",
       "      <th>0</th>\n",
       "      <td>sPevb2NYGzg</td>\n",
       "      <td>Cars &amp; Other Vehicles</td>\n",
       "      <td>Motorcycles</td>\n",
       "      <td>114</td>\n",
       "      <td>17548</td>\n",
       "      <td>39</td>\n",
       "    </tr>\n",
       "    <tr>\n",
       "      <th>1</th>\n",
       "      <td>S3ZdC7EcfMs</td>\n",
       "      <td>Cars &amp; Other Vehicles</td>\n",
       "      <td>Motorcycles</td>\n",
       "      <td>9</td>\n",
       "      <td>89240</td>\n",
       "      <td>59</td>\n",
       "    </tr>\n",
       "    <tr>\n",
       "      <th>2</th>\n",
       "      <td>SPLBLFqPMoA</td>\n",
       "      <td>Food and Entertaining</td>\n",
       "      <td>Recipes</td>\n",
       "      <td>132</td>\n",
       "      <td>99751</td>\n",
       "      <td>91</td>\n",
       "    </tr>\n",
       "    <tr>\n",
       "      <th>3</th>\n",
       "      <td>ohf6NGQtD-0</td>\n",
       "      <td>Family Life</td>\n",
       "      <td>Parenting</td>\n",
       "      <td>148</td>\n",
       "      <td>16001</td>\n",
       "      <td>350</td>\n",
       "    </tr>\n",
       "    <tr>\n",
       "      <th>4</th>\n",
       "      <td>Bspn6RepEVk</td>\n",
       "      <td>Family Life</td>\n",
       "      <td>Parenting</td>\n",
       "      <td>155</td>\n",
       "      <td>16001</td>\n",
       "      <td>353</td>\n",
       "    </tr>\n",
       "    <tr>\n",
       "      <th>...</th>\n",
       "      <td>...</td>\n",
       "      <td>...</td>\n",
       "      <td>...</td>\n",
       "      <td>...</td>\n",
       "      <td>...</td>\n",
       "      <td>...</td>\n",
       "    </tr>\n",
       "    <tr>\n",
       "      <th>99995</th>\n",
       "      <td>7Ml7hinhbRI</td>\n",
       "      <td>Cars &amp; Other Vehicles</td>\n",
       "      <td>Boats</td>\n",
       "      <td>76</td>\n",
       "      <td>8534</td>\n",
       "      <td>1238516</td>\n",
       "    </tr>\n",
       "    <tr>\n",
       "      <th>99996</th>\n",
       "      <td>LBaSWl8ZEpw</td>\n",
       "      <td>Cars &amp; Other Vehicles</td>\n",
       "      <td>Cars</td>\n",
       "      <td>38</td>\n",
       "      <td>95134</td>\n",
       "      <td>1238626</td>\n",
       "    </tr>\n",
       "    <tr>\n",
       "      <th>99997</th>\n",
       "      <td>H9iBp6XSchc</td>\n",
       "      <td>Cars &amp; Other Vehicles</td>\n",
       "      <td>Cars</td>\n",
       "      <td>7</td>\n",
       "      <td>95134</td>\n",
       "      <td>1238627</td>\n",
       "    </tr>\n",
       "    <tr>\n",
       "      <th>99998</th>\n",
       "      <td>MESXtTwvQ2c</td>\n",
       "      <td>Cars &amp; Other Vehicles</td>\n",
       "      <td>Cars</td>\n",
       "      <td>22</td>\n",
       "      <td>95134</td>\n",
       "      <td>1238628</td>\n",
       "    </tr>\n",
       "    <tr>\n",
       "      <th>99999</th>\n",
       "      <td>D2rjrr6y7pU</td>\n",
       "      <td>Hobbies and Crafts</td>\n",
       "      <td>Photography</td>\n",
       "      <td>22</td>\n",
       "      <td>2864</td>\n",
       "      <td>1238837</td>\n",
       "    </tr>\n",
       "  </tbody>\n",
       "</table>\n",
       "<p>100000 rows × 6 columns</p>\n",
       "</div>"
      ],
      "text/plain": [
       "          video_id             category_1   category_2  rank  task_id  \\\n",
       "0      sPevb2NYGzg  Cars & Other Vehicles  Motorcycles   114    17548   \n",
       "1      S3ZdC7EcfMs  Cars & Other Vehicles  Motorcycles     9    89240   \n",
       "2      SPLBLFqPMoA  Food and Entertaining      Recipes   132    99751   \n",
       "3      ohf6NGQtD-0            Family Life    Parenting   148    16001   \n",
       "4      Bspn6RepEVk            Family Life    Parenting   155    16001   \n",
       "...            ...                    ...          ...   ...      ...   \n",
       "99995  7Ml7hinhbRI  Cars & Other Vehicles        Boats    76     8534   \n",
       "99996  LBaSWl8ZEpw  Cars & Other Vehicles         Cars    38    95134   \n",
       "99997  H9iBp6XSchc  Cars & Other Vehicles         Cars     7    95134   \n",
       "99998  MESXtTwvQ2c  Cars & Other Vehicles         Cars    22    95134   \n",
       "99999  D2rjrr6y7pU     Hobbies and Crafts  Photography    22     2864   \n",
       "\n",
       "       original_index  \n",
       "0                  39  \n",
       "1                  59  \n",
       "2                  91  \n",
       "3                 350  \n",
       "4                 353  \n",
       "...               ...  \n",
       "99995         1238516  \n",
       "99996         1238626  \n",
       "99997         1238627  \n",
       "99998         1238628  \n",
       "99999         1238837  \n",
       "\n",
       "[100000 rows x 6 columns]"
      ]
     },
     "execution_count": 26,
     "metadata": {},
     "output_type": "execute_result"
    }
   ],
   "source": [
    "split"
   ]
  },
  {
   "cell_type": "markdown",
   "id": "5734be6d-4094-47ff-ba6c-e4b35b0ae46c",
   "metadata": {},
   "source": [
    "### Select annotations"
   ]
  },
  {
   "cell_type": "code",
   "execution_count": 27,
   "id": "89207b39-ca33-493b-a3f4-826176b260c5",
   "metadata": {},
   "outputs": [],
   "source": [
    "json_path = join(data_root, \"caption.json\")\n",
    "# annotations = pd.read_json(json_path, lines=True)\n",
    "annotations = load_json(join(data_root, \"caption.json\"))"
   ]
  },
  {
   "cell_type": "code",
   "execution_count": 28,
   "id": "e9935149-7d43-4f3e-a2c7-29546cc9c354",
   "metadata": {},
   "outputs": [
    {
     "data": {
      "text/plain": [
       "(1238911, dict)"
      ]
     },
     "execution_count": 28,
     "metadata": {},
     "output_type": "execute_result"
    }
   ],
   "source": [
    "len(annotations), type(annotations)"
   ]
  },
  {
   "cell_type": "code",
   "execution_count": 29,
   "id": "22070476-e6f5-42cc-9b28-3a205eaf45b1",
   "metadata": {},
   "outputs": [
    {
     "data": {
      "text/plain": [
       "['nVbIUDjzWY4', 'CTPAZ2euJ2Q', 'rwmt7Cbuvfs', 'HnTLh99gcxY', 'EyP3HVhg1u0']"
      ]
     },
     "execution_count": 29,
     "metadata": {},
     "output_type": "execute_result"
    }
   ],
   "source": [
    "list(annotations.keys())[:5]"
   ]
  },
  {
   "cell_type": "code",
   "execution_count": 30,
   "id": "f485342c-6eef-4cd4-bca1-46241923ad8b",
   "metadata": {},
   "outputs": [],
   "source": [
    "video_id = \"CTPAZ2euJ2Q\"\n",
    "video_info = annotations[video_id]"
   ]
  },
  {
   "cell_type": "code",
   "execution_count": 31,
   "id": "17836c45-411a-456b-992a-09a5ee8fc957",
   "metadata": {},
   "outputs": [
    {
     "data": {
      "text/plain": [
       "dict_keys(['start', 'end', 'text'])"
      ]
     },
     "execution_count": 31,
     "metadata": {},
     "output_type": "execute_result"
    }
   ],
   "source": [
    "video_info.keys()"
   ]
  },
  {
   "cell_type": "code",
   "execution_count": 32,
   "id": "6fbd91d2-6a16-4e5b-89ef-5b8a1216a3f6",
   "metadata": {},
   "outputs": [
    {
     "data": {
      "text/plain": [
       "['yes read',\n",
       " 'anybody highlight motorcycle',\n",
       " 'cylinder fins home',\n",
       " 'screen attempt',\n",
       " 'pretty good',\n",
       " 'factory finish achieve',\n",
       " 'home basic tools',\n",
       " 'patience little talent',\n",
       " 'get',\n",
       " 'stick details']"
      ]
     },
     "execution_count": 32,
     "metadata": {},
     "output_type": "execute_result"
    }
   ],
   "source": [
    "video_info[\"text\"][:10]"
   ]
  },
  {
   "cell_type": "code",
   "execution_count": 33,
   "id": "38ef307a-14f4-40cd-be6d-c02f9ea1f754",
   "metadata": {},
   "outputs": [],
   "source": [
    "selected_video_ids = set(split.video_id)"
   ]
  },
  {
   "cell_type": "code",
   "execution_count": 34,
   "id": "10ce496f-477f-4d30-9110-e921f0db63dc",
   "metadata": {},
   "outputs": [
    {
     "data": {
      "text/plain": [
       "100000"
      ]
     },
     "execution_count": 34,
     "metadata": {},
     "output_type": "execute_result"
    }
   ],
   "source": [
    "len(selected_video_ids)"
   ]
  },
  {
   "cell_type": "code",
   "execution_count": 35,
   "id": "b3074128-1844-447a-bf49-875e9384fc9d",
   "metadata": {},
   "outputs": [],
   "source": [
    "selected_annotations = {k: annotations[k] for k in selected_video_ids}"
   ]
  },
  {
   "cell_type": "code",
   "execution_count": 36,
   "id": "eaa3785f-783c-4b4a-8aa7-2db91c26b4e6",
   "metadata": {},
   "outputs": [
    {
     "data": {
      "text/plain": [
       "100000"
      ]
     },
     "execution_count": 36,
     "metadata": {},
     "output_type": "execute_result"
    }
   ],
   "source": [
    "len(selected_annotations)"
   ]
  },
  {
   "cell_type": "code",
   "execution_count": 37,
   "id": "240f518c-4450-4b13-80d0-40cef008c14a",
   "metadata": {},
   "outputs": [],
   "source": [
    "save_path = join(split_dir, \"captions-v1.0_100k.json\")\n",
    "save_json(selected_annotations, save_path)"
   ]
  },
  {
   "cell_type": "code",
   "execution_count": 38,
   "id": "11144c4e-9e8d-4fcb-b747-d0bef71339a5",
   "metadata": {},
   "outputs": [
    {
     "name": "stderr",
     "output_type": "stream",
     "text": [
      "Iterating: 100%|█████████████████████████████████████████████████████████████████| 100000/100000 [00:03<00:00, 31119.95it/s]\n"
     ]
    }
   ],
   "source": [
    "def get_durations(info):\n",
    "    return np.array(info[\"end\"]) - np.array(info[\"start\"])\n",
    "\n",
    "durations = [get_durations(selected_annotations[k]) for k in tqdm(selected_annotations, desc=\"Iterating\")]"
   ]
  },
  {
   "cell_type": "code",
   "execution_count": 39,
   "id": "a27d4b71-8053-42b0-9cf2-98f6be6d4062",
   "metadata": {},
   "outputs": [],
   "source": [
    "durations = np.concatenate(durations)"
   ]
  },
  {
   "cell_type": "code",
   "execution_count": 42,
   "id": "b9806619-7ebb-4a9a-97dd-9a8f416b6b3b",
   "metadata": {},
   "outputs": [
    {
     "data": {
      "text/plain": [
       "12427171"
      ]
     },
     "execution_count": 42,
     "metadata": {},
     "output_type": "execute_result"
    }
   ],
   "source": [
    "len(durations)"
   ]
  },
  {
   "cell_type": "code",
   "execution_count": 45,
   "id": "5a09c001-b44f-47e8-be55-340fc85264d9",
   "metadata": {},
   "outputs": [
    {
     "data": {
      "text/plain": [
       "1238911"
      ]
     },
     "execution_count": 45,
     "metadata": {},
     "output_type": "execute_result"
    }
   ],
   "source": [
    "len(annotations)"
   ]
  },
  {
   "cell_type": "code",
   "execution_count": 46,
   "id": "07a59d04-b224-47d0-ad32-b79613e50e17",
   "metadata": {},
   "outputs": [
    {
     "data": {
      "text/plain": [
       "dict"
      ]
     },
     "execution_count": 46,
     "metadata": {},
     "output_type": "execute_result"
    }
   ],
   "source": [
    "type(annotations)"
   ]
  },
  {
   "cell_type": "code",
   "execution_count": 47,
   "id": "99b3243a-7651-495c-a103-b6660fba47c9",
   "metadata": {},
   "outputs": [
    {
     "data": {
      "text/plain": [
       "['nVbIUDjzWY4',\n",
       " 'CTPAZ2euJ2Q',\n",
       " 'rwmt7Cbuvfs',\n",
       " 'HnTLh99gcxY',\n",
       " 'EyP3HVhg1u0',\n",
       " 'w6zbbdK1ewY',\n",
       " 'RAidUDTPZ-k',\n",
       " 'nssig0FNZVU',\n",
       " 'm2YyhYyleII',\n",
       " 'u5B1RAufWVM']"
      ]
     },
     "execution_count": 47,
     "metadata": {},
     "output_type": "execute_result"
    }
   ],
   "source": [
    "list(annotations.keys())[:10]"
   ]
  },
  {
   "cell_type": "code",
   "execution_count": 48,
   "id": "15bfb12e-04e7-4604-ab93-cd928e26b50b",
   "metadata": {},
   "outputs": [],
   "source": [
    "sample_video = \"nVbIUDjzWY4\""
   ]
  },
  {
   "cell_type": "code",
   "execution_count": 49,
   "id": "16aa75bb-6137-4e9a-a3ae-2d610e98d590",
   "metadata": {},
   "outputs": [
    {
     "name": "stderr",
     "output_type": "stream",
     "text": [
      "Processing items: 100%|███████████████████████████████████████████████████████| 1238911/1238911 [00:04<00:00, 268818.93it/s]\n"
     ]
    }
   ],
   "source": [
    "captions = []\n",
    "\n",
    "for key in tqdm(annotations, desc=\"Processing items\"):\n",
    "    captions.extend(annotations[key][\"text\"])"
   ]
  },
  {
   "cell_type": "code",
   "execution_count": 50,
   "id": "cddd3848-0a42-46ba-9f7c-906cfd281831",
   "metadata": {},
   "outputs": [
    {
     "data": {
      "text/plain": [
       "138429929"
      ]
     },
     "execution_count": 50,
     "metadata": {},
     "output_type": "execute_result"
    }
   ],
   "source": [
    "len(captions)"
   ]
  },
  {
   "cell_type": "code",
   "execution_count": 51,
   "id": "1ab74752-b8c7-408c-91c6-fac991c7a6ef",
   "metadata": {},
   "outputs": [],
   "source": [
    "def plot_histogram(X, figsize=(10, 8), title=\"Distribution\", xlabel=\"X\", ylabel=\"Frequency\", bins=None):\n",
    "    fig, ax = plt.subplots(1, 1, figsize=figsize)\n",
    "    ax.grid(alpha=0.3)\n",
    "    ax.set_title(title)\n",
    "    ax.set_xlabel(xlabel)\n",
    "    ax.set_ylabel(ylabel)\n",
    "    ax.hist(X, bins=bins)\n",
    "    plt.show()"
   ]
  },
  {
   "cell_type": "code",
   "execution_count": 63,
   "id": "92c5d958-8f9f-48a8-a7b3-6ea3a2a75696",
   "metadata": {},
   "outputs": [
    {
     "data": {
      "text/plain": [
       "(0.20000000000000018,\n",
       " 1008.4000000000001,\n",
       " 4.223276564714529,\n",
       " 3.6299999999999955)"
      ]
     },
     "execution_count": 63,
     "metadata": {},
     "output_type": "execute_result"
    }
   ],
   "source": [
    "durations.min(), durations.max(), durations.mean(), np.median(durations)"
   ]
  },
  {
   "cell_type": "code",
   "execution_count": 71,
   "id": "9733496a-d20b-48d1-bde4-67e8c42af05b",
   "metadata": {},
   "outputs": [],
   "source": [
    "subdurations = durations[np.where(durations > 100)]"
   ]
  },
  {
   "cell_type": "code",
   "execution_count": 72,
   "id": "3e601b6f-2f65-43a6-ad60-aa2588d08ecc",
   "metadata": {},
   "outputs": [
    {
     "data": {
      "text/plain": [
       "(707, array([5.34, 4.64]))"
      ]
     },
     "execution_count": 72,
     "metadata": {},
     "output_type": "execute_result"
    }
   ],
   "source": [
    "sum(durations > 100), durations[[10, 20]]"
   ]
  },
  {
   "cell_type": "code",
   "execution_count": 73,
   "id": "e37e4943-70f8-40a8-9719-fb16efa13877",
   "metadata": {},
   "outputs": [
    {
     "data": {
      "text/plain": [
       "1008.4000000000001"
      ]
     },
     "execution_count": 73,
     "metadata": {},
     "output_type": "execute_result"
    }
   ],
   "source": [
    "np.max(subdurations)"
   ]
  },
  {
   "cell_type": "code",
   "execution_count": 74,
   "id": "cd5ecd1c-bf48-4c07-9792-974549252127",
   "metadata": {},
   "outputs": [
    {
     "data": {
      "image/png": "[encoded data removed]",
      "text/plain": [
       "<Figure size 800x500 with 1 Axes>"
      ]
     },
     "metadata": {},
     "output_type": "display_data"
    }
   ],
   "source": [
    "plot_histogram(subdurations, bins=200, figsize=(8, 5))"
   ]
  },
  {
   "cell_type": "markdown",
   "id": "acd3624f-8c35-4e63-afc3-1504ff92c1f1",
   "metadata": {},
   "source": [
    "### Check temporal captions"
   ]
  },
  {
   "cell_type": "code",
   "execution_count": 18,
   "id": "d4e32a06-786f-4059-b0c3-f51b5f26adc0",
   "metadata": {},
   "outputs": [],
   "source": [
    "# define some temporal prepositions\n",
    "temporal_prepositions = [\"after\", \"before\", \"then\", \"while\", \"during\", \"as soon as\"]\n",
    "\n",
    "\n",
    "def check_in_caption(caption, keywords):\n",
    "    \"\"\"Checks if any of the given keywords occur in the caption.\"\"\"\n",
    "    caption = caption.lower()\n",
    "    for word in keywords:\n",
    "        if word.lower() in caption:\n",
    "            return True\n",
    "    return False"
   ]
  },
  {
   "cell_type": "code",
   "execution_count": 22,
   "id": "330ab311-5b72-471f-b88b-64cbf30ef850",
   "metadata": {},
   "outputs": [],
   "source": [
    "captions = [x for x in tqdm(captions, desc=\"Filtering captions\") if isinstance(x, str)]"
   ]
  },
  {
   "cell_type": "code",
   "execution_count": 24,
   "id": "d9ba2202-8e7c-47dc-9d48-ed456f9d6b4f",
   "metadata": {},
   "outputs": [
    {
     "name": "stderr",
     "output_type": "stream",
     "text": [
      "Getting temporal captions: 100%|██████████████████████████████████████████| 138429877/138429877 [02:50<00:00, 812164.23it/s]\n"
     ]
    }
   ],
   "source": [
    "# find captions with temporal prepositions\n",
    "temporal_captions = [\n",
    "    x for x in tqdm(captions, \"Getting temporal captions\") if check_in_caption(x, temporal_prepositions)\n",
    "]"
   ]
  },
  {
   "cell_type": "code",
   "execution_count": 25,
   "id": "e4c5e74d-6476-4120-b99c-b8dd38f3f2d1",
   "metadata": {},
   "outputs": [
    {
     "name": "stderr",
     "output_type": "stream",
     "text": [
      "Splitting temporal captions: 100%|██████████████████████████████████████████████| 134841/134841 [00:00<00:00, 459400.76it/s]\n"
     ]
    }
   ],
   "source": [
    "temporal_captions_split = defaultdict(list)\n",
    "\n",
    "for x in tqdm(temporal_captions, \"Splitting temporal captions\"):\n",
    "    for word in temporal_prepositions:\n",
    "        if word in x:\n",
    "            temporal_captions_split[word].append(x)"
   ]
  },
  {
   "cell_type": "code",
   "execution_count": 26,
   "id": "ac2ac9fe-a215-43c8-bb97-991c7456c587",
   "metadata": {},
   "outputs": [
    {
     "data": {
      "text/plain": [
       "78477"
      ]
     },
     "execution_count": 26,
     "metadata": {},
     "output_type": "execute_result"
    }
   ],
   "source": [
    "len(temporal_captions_split[\"after\"])"
   ]
  },
  {
   "cell_type": "code",
   "execution_count": 28,
   "id": "c7181657-5012-46a3-a9ca-cc312893989b",
   "metadata": {},
   "outputs": [
    {
     "data": {
      "image/png": "[encoded data removed]",
      "text/plain": [
       "<Figure size 720x504 with 1 Axes>"
      ]
     },
     "metadata": {
      "needs_background": "light"
     },
     "output_type": "display_data"
    }
   ],
   "source": [
    "fig, ax = plt.subplots(1, 1, figsize=(10, 7))\n",
    "\n",
    "counts = [len(temporal_captions_split[k]) for k in temporal_captions_split]\n",
    "keys = [k.capitalize() for k in temporal_captions_split]\n",
    "\n",
    "indices = np.argsort(keys)\n",
    "counts = np.array(counts)[indices]\n",
    "keys = np.array(keys)[indices]\n",
    "\n",
    "ax.grid(alpha=0.5)\n",
    "ax.bar(keys, counts)\n",
    "ax.set_title(\"Distribution of temporal words in HowTo100M descriptions\", fontsize=15)\n",
    "ax.set_xlabel(\"Temporal preprositions\", fontsize=13)\n",
    "ax.set_ylabel(\"Frequency\", fontsize=13)\n",
    "\n",
    "rects = ax.patches\n",
    "for rect, count in zip(rects, counts):\n",
    "    height = rect.get_height()\n",
    "    \n",
    "    if count > 1000:\n",
    "        new_height = height - 5000\n",
    "        color=\"white\"\n",
    "    else:\n",
    "        new_height = height + 500\n",
    "        color=\"black\"\n",
    "    \n",
    "    ax.text(\n",
    "        rect.get_x() + rect.get_width() / 2, new_height,\n",
    "        count, ha=\"center\", va=\"bottom\", fontsize=13, color=color, weight='bold',\n",
    "    )\n",
    "\n",
    "plt.show()"
   ]
  },
  {
   "cell_type": "code",
   "execution_count": null,
   "id": "b5c4a03d-0c01-449c-b1c2-21d719d02578",
   "metadata": {},
   "outputs": [],
   "source": []
  }
 ],
 "metadata": {
  "kernelspec": {
   "display_name": "Python 3 (ipykernel)",
   "language": "python",
   "name": "python3"
  },
  "language_info": {
   "codemirror_mode": {
    "name": "ipython",
    "version": 3
   },
   "file_extension": ".py",
   "mimetype": "text/x-python",
   "name": "python",
   "nbconvert_exporter": "python",
   "pygments_lexer": "ipython3",
   "version": "3.8.8"
  },
  "vscode": {
   "interpreter": {
    "hash": "4d735c6d2aad13934026534ccfaebefdc13ee41c600726d150e1b53623013d99"
   }
  }
 },
 "nbformat": 4,
 "nbformat_minor": 5
}
