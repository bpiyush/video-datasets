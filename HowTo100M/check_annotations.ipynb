{
 "cells": [
  {
   "cell_type": "code",
   "execution_count": 1,
   "id": "a4e33574-b0ad-413c-b603-ee9da21df024",
   "metadata": {},
   "outputs": [],
   "source": [
    "%load_ext autoreload\n",
    "%autoreload 2"
   ]
  },
  {
   "cell_type": "code",
   "execution_count": 15,
   "id": "ce8ce0d8-b58e-4efa-ac3a-22cdbee4a945",
   "metadata": {},
   "outputs": [],
   "source": [
    "from os.path import join\n",
    "import json\n",
    "import h5py\n",
    "import pprint\n",
    "import numpy as np\n",
    "from collections import defaultdict\n",
    "import matplotlib.pyplot as plt\n",
    "from tqdm import tqdm\n",
    "\n",
    "from utils.io import load_json"
   ]
  },
  {
   "cell_type": "code",
   "execution_count": 7,
   "id": "7b6a2917-7f94-452b-ba93-8119c4530257",
   "metadata": {},
   "outputs": [],
   "source": [
    "# set data root\n",
    "data_root = \"/ssd/pbagad/datasets/HowTo100M/\"\n",
    "\n",
    "# load annotations\n",
    "annotations = load_json(join(data_root, \"caption.json\"))"
   ]
  },
  {
   "cell_type": "code",
   "execution_count": 8,
   "id": "5a09c001-b44f-47e8-be55-340fc85264d9",
   "metadata": {},
   "outputs": [
    {
     "data": {
      "text/plain": [
       "1238911"
      ]
     },
     "execution_count": 8,
     "metadata": {},
     "output_type": "execute_result"
    }
   ],
   "source": [
    "len(annotations)"
   ]
  },
  {
   "cell_type": "code",
   "execution_count": 9,
   "id": "07a59d04-b224-47d0-ad32-b79613e50e17",
   "metadata": {},
   "outputs": [
    {
     "data": {
      "text/plain": [
       "dict"
      ]
     },
     "execution_count": 9,
     "metadata": {},
     "output_type": "execute_result"
    }
   ],
   "source": [
    "type(annotations)"
   ]
  },
  {
   "cell_type": "code",
   "execution_count": 11,
   "id": "99b3243a-7651-495c-a103-b6660fba47c9",
   "metadata": {},
   "outputs": [
    {
     "data": {
      "text/plain": [
       "['nVbIUDjzWY4',\n",
       " 'CTPAZ2euJ2Q',\n",
       " 'rwmt7Cbuvfs',\n",
       " 'HnTLh99gcxY',\n",
       " 'EyP3HVhg1u0',\n",
       " 'w6zbbdK1ewY',\n",
       " 'RAidUDTPZ-k',\n",
       " 'nssig0FNZVU',\n",
       " 'm2YyhYyleII',\n",
       " 'u5B1RAufWVM']"
      ]
     },
     "execution_count": 11,
     "metadata": {},
     "output_type": "execute_result"
    }
   ],
   "source": [
    "list(annotations.keys())[:10]"
   ]
  },
  {
   "cell_type": "code",
   "execution_count": 12,
   "id": "15bfb12e-04e7-4604-ab93-cd928e26b50b",
   "metadata": {},
   "outputs": [],
   "source": [
    "sample_video = \"nVbIUDjzWY4\""
   ]
  },
  {
   "cell_type": "code",
   "execution_count": 16,
   "id": "16aa75bb-6137-4e9a-a3ae-2d610e98d590",
   "metadata": {},
   "outputs": [
    {
     "name": "stderr",
     "output_type": "stream",
     "text": [
      "Processing items: 100%|███████████████████████████████████████████████████████| 1238911/1238911 [00:06<00:00, 183265.66it/s]\n"
     ]
    }
   ],
   "source": [
    "captions = []\n",
    "\n",
    "for key in tqdm(annotations, desc=\"Processing items\"):\n",
    "    captions.extend(annotations[key][\"text\"])"
   ]
  },
  {
   "cell_type": "code",
   "execution_count": 17,
   "id": "cddd3848-0a42-46ba-9f7c-906cfd281831",
   "metadata": {},
   "outputs": [
    {
     "data": {
      "text/plain": [
       "138429929"
      ]
     },
     "execution_count": 17,
     "metadata": {},
     "output_type": "execute_result"
    }
   ],
   "source": [
    "len(captions)"
   ]
  },
  {
   "cell_type": "markdown",
   "id": "acd3624f-8c35-4e63-afc3-1504ff92c1f1",
   "metadata": {},
   "source": [
    "### Check temporal captions"
   ]
  },
  {
   "cell_type": "code",
   "execution_count": 18,
   "id": "d4e32a06-786f-4059-b0c3-f51b5f26adc0",
   "metadata": {},
   "outputs": [],
   "source": [
    "# define some temporal prepositions\n",
    "temporal_prepositions = [\"after\", \"before\", \"then\", \"while\", \"during\", \"as soon as\"]\n",
    "\n",
    "\n",
    "def check_in_caption(caption, keywords):\n",
    "    \"\"\"Checks if any of the given keywords occur in the caption.\"\"\"\n",
    "    caption = caption.lower()\n",
    "    for word in keywords:\n",
    "        if word.lower() in caption:\n",
    "            return True\n",
    "    return False"
   ]
  },
  {
   "cell_type": "code",
   "execution_count": 22,
   "id": "330ab311-5b72-471f-b88b-64cbf30ef850",
   "metadata": {},
   "outputs": [],
   "source": [
    "captions = [x for x in tqdm(captions, desc=\"Filtering captions\") if isinstance(x, str)]"
   ]
  },
  {
   "cell_type": "code",
   "execution_count": 24,
   "id": "d9ba2202-8e7c-47dc-9d48-ed456f9d6b4f",
   "metadata": {},
   "outputs": [
    {
     "name": "stderr",
     "output_type": "stream",
     "text": [
      "Getting temporal captions: 100%|██████████████████████████████████████████| 138429877/138429877 [02:50<00:00, 812164.23it/s]\n"
     ]
    }
   ],
   "source": [
    "# find captions with temporal prepositions\n",
    "temporal_captions = [\n",
    "    x for x in tqdm(captions, \"Getting temporal captions\") if check_in_caption(x, temporal_prepositions)\n",
    "]"
   ]
  },
  {
   "cell_type": "code",
   "execution_count": 25,
   "id": "e4c5e74d-6476-4120-b99c-b8dd38f3f2d1",
   "metadata": {},
   "outputs": [
    {
     "name": "stderr",
     "output_type": "stream",
     "text": [
      "Splitting temporal captions: 100%|██████████████████████████████████████████████| 134841/134841 [00:00<00:00, 459400.76it/s]\n"
     ]
    }
   ],
   "source": [
    "temporal_captions_split = defaultdict(list)\n",
    "\n",
    "for x in tqdm(temporal_captions, \"Splitting temporal captions\"):\n",
    "    for word in temporal_prepositions:\n",
    "        if word in x:\n",
    "            temporal_captions_split[word].append(x)"
   ]
  },
  {
   "cell_type": "code",
   "execution_count": 26,
   "id": "ac2ac9fe-a215-43c8-bb97-991c7456c587",
   "metadata": {},
   "outputs": [
    {
     "data": {
      "text/plain": [
       "78477"
      ]
     },
     "execution_count": 26,
     "metadata": {},
     "output_type": "execute_result"
    }
   ],
   "source": [
    "len(temporal_captions_split[\"after\"])"
   ]
  },
  {
   "cell_type": "code",
   "execution_count": 28,
   "id": "c7181657-5012-46a3-a9ca-cc312893989b",
   "metadata": {},
   "outputs": [
    {
     "data": {
      "image/png": "[encoded data removed]",
      "text/plain": [
       "<Figure size 720x504 with 1 Axes>"
      ]
     },
     "metadata": {
      "needs_background": "light"
     },
     "output_type": "display_data"
    }
   ],
   "source": [
    "fig, ax = plt.subplots(1, 1, figsize=(10, 7))\n",
    "\n",
    "counts = [len(temporal_captions_split[k]) for k in temporal_captions_split]\n",
    "keys = [k.capitalize() for k in temporal_captions_split]\n",
    "\n",
    "indices = np.argsort(keys)\n",
    "counts = np.array(counts)[indices]\n",
    "keys = np.array(keys)[indices]\n",
    "\n",
    "ax.grid(alpha=0.5)\n",
    "ax.bar(keys, counts)\n",
    "ax.set_title(\"Distribution of temporal words in HowTo100M descriptions\", fontsize=15)\n",
    "ax.set_xlabel(\"Temporal preprositions\", fontsize=13)\n",
    "ax.set_ylabel(\"Frequency\", fontsize=13)\n",
    "\n",
    "rects = ax.patches\n",
    "for rect, count in zip(rects, counts):\n",
    "    height = rect.get_height()\n",
    "    \n",
    "    if count > 1000:\n",
    "        new_height = height - 5000\n",
    "        color=\"white\"\n",
    "    else:\n",
    "        new_height = height + 500\n",
    "        color=\"black\"\n",
    "    \n",
    "    ax.text(\n",
    "        rect.get_x() + rect.get_width() / 2, new_height,\n",
    "        count, ha=\"center\", va=\"bottom\", fontsize=13, color=color, weight='bold',\n",
    "    )\n",
    "\n",
    "plt.show()"
   ]
  },
  {
   "cell_type": "code",
   "execution_count": null,
   "id": "b5c4a03d-0c01-449c-b1c2-21d719d02578",
   "metadata": {},
   "outputs": [],
   "source": []
  }
 ],
 "metadata": {
  "kernelspec": {
   "display_name": "Python 3 (ipykernel)",
   "language": "python",
   "name": "python3"
  },
  "language_info": {
   "codemirror_mode": {
    "name": "ipython",
    "version": 3
   },
   "file_extension": ".py",
   "mimetype": "text/x-python",
   "name": "python",
   "nbconvert_exporter": "python",
   "pygments_lexer": "ipython3",
   "version": "3.9.12"
  }
 },
 "nbformat": 4,
 "nbformat_minor": 5
}
