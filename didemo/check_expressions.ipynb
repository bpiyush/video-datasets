{
 "cells": [
  {
   "cell_type": "code",
   "execution_count": null,
   "id": "c6ae2e73-162a-405c-a9e4-07d9a691c064",
   "metadata": {},
   "outputs": [],
   "source": []
  },
  {
   "cell_type": "code",
   "execution_count": 1,
   "id": "215b770f-118b-429b-8367-c8d4cd0e779e",
   "metadata": {},
   "outputs": [],
   "source": [
    "%load_ext autoreload\n",
    "%autoreload 2"
   ]
  },
  {
   "cell_type": "code",
   "execution_count": 2,
   "id": "9003f09a-bfb6-4233-a2b0-e91d21f5d7c8",
   "metadata": {},
   "outputs": [],
   "source": [
    "from os.path import join\n",
    "from glob import glob\n",
    "from collections import Counter\n",
    "import torchvision\n",
    "\n",
    "from utils.io import load_json\n",
    "from paths import VIDEO_DIR"
   ]
  },
  {
   "cell_type": "code",
   "execution_count": null,
   "id": "f69b1339-7698-4683-a894-e4c7ed0be0b4",
   "metadata": {},
   "outputs": [],
   "source": []
  },
  {
   "cell_type": "code",
   "execution_count": 3,
   "id": "2e25e2d3-a440-4343-8d1a-08a187f28677",
   "metadata": {},
   "outputs": [],
   "source": [
    "mode = \"val\"\n",
    "\n",
    "json_path = f\"./data/{mode}_data.json\"\n",
    "mode_data = load_json(json_path)"
   ]
  },
  {
   "cell_type": "code",
   "execution_count": 4,
   "id": "1b4ad483-8623-4133-a77f-00be4f56da3d",
   "metadata": {},
   "outputs": [
    {
     "data": {
      "text/plain": [
       "4180"
      ]
     },
     "execution_count": 4,
     "metadata": {},
     "output_type": "execute_result"
    }
   ],
   "source": [
    "len(mode_data)"
   ]
  },
  {
   "cell_type": "code",
   "execution_count": 5,
   "id": "3536029e-3018-4dde-b461-ae966750362f",
   "metadata": {},
   "outputs": [
    {
     "data": {
      "text/plain": [
       "{'num_segments': 6,\n",
       " 'description': \"a deep blue lighting display is projected upon the building's face.\",\n",
       " 'dl_link': 'https://www.flickr.com/video_download.gne?id=8328905760',\n",
       " 'times': [[0, 0], [0, 0], [0, 0], [0, 0]],\n",
       " 'video': '23748404@N00_8328905760_5e0200aae1.mov',\n",
       " 'annotation_id': 32787}"
      ]
     },
     "execution_count": 5,
     "metadata": {},
     "output_type": "execute_result"
    }
   ],
   "source": [
    "mode_data[10]"
   ]
  },
  {
   "cell_type": "code",
   "execution_count": 6,
   "id": "2af2766c-7871-4048-ba39-617ff8c902d3",
   "metadata": {},
   "outputs": [],
   "source": [
    "# serach video\n",
    "\n",
    "def search_video(video_name, video_dir):\n",
    "    \"\"\"Search for a video in DiDeMo dataset.\"\"\"\n",
    "    video_path = join(video_dir, video_name + \"*\")\n",
    "    options = glob(video_path)\n",
    "    assert len(options) > 0, f\"No video found at {video_path}\"\n",
    "    assert len(options) < 2, f\"Multiple videos found with name {video_name}\"\n",
    "    return options[0]"
   ]
  },
  {
   "cell_type": "code",
   "execution_count": 7,
   "id": "d74a3459-7c56-4e6c-a53c-dfb47c51ef70",
   "metadata": {},
   "outputs": [],
   "source": [
    "video_name = mode_data[0][\"video\"]\n",
    "video_dir = VIDEO_DIR\n",
    "\n",
    "video_path = search_video(video_name, video_dir)"
   ]
  },
  {
   "cell_type": "code",
   "execution_count": 8,
   "id": "98c95e3b-4f88-4c4f-b705-591319c08500",
   "metadata": {},
   "outputs": [],
   "source": [
    "# get majority vote annotation\n",
    "\n",
    "def get_majority_vote(times: list):\n",
    "    \"\"\"\n",
    "    Given list of times [(t1_s, t1_e), (t2_s, t2_e), .., (tK_s, tK_e)],\n",
    "    find the tuple (t_s, t_e) s.t. it is a majority among the tuples.\n",
    "    \"\"\"\n",
    "    times = [str(x) for x in times]\n",
    "    c = Counter(times)\n",
    "    most_common = c.most_common()\n",
    "    return eval(most_common[0][0])"
   ]
  },
  {
   "cell_type": "code",
   "execution_count": 9,
   "id": "7d690b53-33af-4e64-9a2a-a99947b57b9e",
   "metadata": {},
   "outputs": [
    {
     "data": {
      "text/plain": [
       "[[1, 1], [1, 1], [1, 1], [0, 0]]"
      ]
     },
     "execution_count": 9,
     "metadata": {},
     "output_type": "execute_result"
    }
   ],
   "source": [
    "mode_data[0][\"times\"]"
   ]
  },
  {
   "cell_type": "code",
   "execution_count": 10,
   "id": "27810f41-6a22-46d8-b726-acf9e8986e00",
   "metadata": {},
   "outputs": [
    {
     "data": {
      "text/plain": [
       "[1, 3]"
      ]
     },
     "execution_count": 10,
     "metadata": {},
     "output_type": "execute_result"
    }
   ],
   "source": [
    "get_majority_vote([[1,1], [2,2],[1,3],[1,3]])"
   ]
  },
  {
   "cell_type": "code",
   "execution_count": 11,
   "id": "d8b9e218-a8f1-4f10-bf0a-62ce88dfbf1f",
   "metadata": {},
   "outputs": [],
   "source": [
    "def process_time_annotation(annotation, video_duration, clip_duration=5.):\n",
    "    \"\"\"Returns actual timestamps from annotations.\"\"\"\n",
    "    t_start, t_end = annotation\n",
    "    t_start = t_start * clip_duration\n",
    "    t_end = max((t_end + 1) * clip_duration, video_duration)\n",
    "    \n",
    "    return t_start, t_end"
   ]
  },
  {
   "cell_type": "code",
   "execution_count": 12,
   "id": "67864877-61de-4acc-8b0c-16a2fc37f90a",
   "metadata": {},
   "outputs": [
    {
     "ename": "RuntimeError",
     "evalue": "Not compiled with video_reader support, to enable video_reader support, please install ffmpeg (version 4.2 is currently supported) and build torchvision from source.",
     "output_type": "error",
     "traceback": [
      "\u001b[0;31m---------------------------------------------------------------------------\u001b[0m",
      "\u001b[0;31mRuntimeError\u001b[0m                              Traceback (most recent call last)",
      "Input \u001b[0;32mIn [12]\u001b[0m, in \u001b[0;36m<cell line: 1>\u001b[0;34m()\u001b[0m\n\u001b[0;32m----> 1\u001b[0m video_stream \u001b[38;5;241m=\u001b[39m \u001b[43mtorchvision\u001b[49m\u001b[38;5;241;43m.\u001b[39;49m\u001b[43mio\u001b[49m\u001b[38;5;241;43m.\u001b[39;49m\u001b[43mVideoReader\u001b[49m\u001b[43m(\u001b[49m\u001b[43mvideo_path\u001b[49m\u001b[43m,\u001b[49m\u001b[43m \u001b[49m\u001b[38;5;124;43m\"\u001b[39;49m\u001b[38;5;124;43mvideo\u001b[39;49m\u001b[38;5;124;43m\"\u001b[39;49m\u001b[43m)\u001b[49m\n",
      "File \u001b[0;32m~/install/miniconda3/envs/rvos-cpu/lib/python3.9/site-packages/torchvision/io/__init__.py:130\u001b[0m, in \u001b[0;36mVideoReader.__init__\u001b[0;34m(self, path, stream, num_threads, device)\u001b[0m\n\u001b[1;32m    128\u001b[0m     \u001b[38;5;28;01mreturn\u001b[39;00m\n\u001b[1;32m    129\u001b[0m \u001b[38;5;28;01mif\u001b[39;00m \u001b[38;5;129;01mnot\u001b[39;00m _has_video_opt():\n\u001b[0;32m--> 130\u001b[0m     \u001b[38;5;28;01mraise\u001b[39;00m \u001b[38;5;167;01mRuntimeError\u001b[39;00m(\n\u001b[1;32m    131\u001b[0m         \u001b[38;5;124m\"\u001b[39m\u001b[38;5;124mNot compiled with video_reader support, \u001b[39m\u001b[38;5;124m\"\u001b[39m\n\u001b[1;32m    132\u001b[0m         \u001b[38;5;241m+\u001b[39m \u001b[38;5;124m\"\u001b[39m\u001b[38;5;124mto enable video_reader support, please install \u001b[39m\u001b[38;5;124m\"\u001b[39m\n\u001b[1;32m    133\u001b[0m         \u001b[38;5;241m+\u001b[39m \u001b[38;5;124m\"\u001b[39m\u001b[38;5;124mffmpeg (version 4.2 is currently supported) and \u001b[39m\u001b[38;5;124m\"\u001b[39m\n\u001b[1;32m    134\u001b[0m         \u001b[38;5;241m+\u001b[39m \u001b[38;5;124m\"\u001b[39m\u001b[38;5;124mbuild torchvision from source.\u001b[39m\u001b[38;5;124m\"\u001b[39m\n\u001b[1;32m    135\u001b[0m     )\n\u001b[1;32m    137\u001b[0m \u001b[38;5;28mself\u001b[39m\u001b[38;5;241m.\u001b[39m_c \u001b[38;5;241m=\u001b[39m torch\u001b[38;5;241m.\u001b[39mclasses\u001b[38;5;241m.\u001b[39mtorchvision\u001b[38;5;241m.\u001b[39mVideo(path, stream, num_threads)\n",
      "\u001b[0;31mRuntimeError\u001b[0m: Not compiled with video_reader support, to enable video_reader support, please install ffmpeg (version 4.2 is currently supported) and build torchvision from source."
     ]
    }
   ],
   "source": [
    "video_stream = torchvision.io.VideoReader(video_path, \"video\")\n",
    "\n",
    "\n",
    "# video_duration = \n",
    "# t_start, t_end = "
   ]
  },
  {
   "cell_type": "code",
   "execution_count": null,
   "id": "47245752-e877-4e58-8678-30500f381540",
   "metadata": {},
   "outputs": [],
   "source": []
  }
 ],
 "metadata": {
  "kernelspec": {
   "display_name": "Python 3 (ipykernel)",
   "language": "python",
   "name": "python3"
  },
  "language_info": {
   "codemirror_mode": {
    "name": "ipython",
    "version": 3
   },
   "file_extension": ".py",
   "mimetype": "text/x-python",
   "name": "python",
   "nbconvert_exporter": "python",
   "pygments_lexer": "ipython3",
   "version": "3.9.12"
  }
 },
 "nbformat": 4,
 "nbformat_minor": 5
}
