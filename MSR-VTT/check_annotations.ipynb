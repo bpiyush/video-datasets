{
 "cells": [
  {
   "cell_type": "code",
   "execution_count": 1,
   "id": "dcb2f4c8-274d-445d-86fc-c67e810567aa",
   "metadata": {},
   "outputs": [],
   "source": [
    "%load_ext autoreload\n",
    "%autoreload 2"
   ]
  },
  {
   "cell_type": "code",
   "execution_count": 17,
   "id": "a45f7ad4-c67d-4fb5-8751-1e363672118a",
   "metadata": {},
   "outputs": [],
   "source": [
    "from os.path import join\n",
    "from collections import defaultdict\n",
    "import matplotlib.pyplot as plt\n",
    "\n",
    "from utils.io import load_json\n",
    "from utils.visualize import set_latex_fonts"
   ]
  },
  {
   "cell_type": "code",
   "execution_count": 3,
   "id": "d4a60501-06b4-4682-baa8-a251e683ec42",
   "metadata": {},
   "outputs": [],
   "source": [
    "# set_latex_fonts(show_sample=True)"
   ]
  },
  {
   "cell_type": "markdown",
   "id": "218d2aca-cc50-4939-b8da-cd8def718cf3",
   "metadata": {},
   "source": [
    "### Load data file"
   ]
  },
  {
   "cell_type": "code",
   "execution_count": 5,
   "id": "feebda4c-feb1-4219-8895-7a4b6d7a6603",
   "metadata": {},
   "outputs": [],
   "source": [
    "data_root = \"/ssd/pbagad/datasets/MSR-VTT/\"\n",
    "\n",
    "data_file = join(data_root, \"MSRVTT/annotation/MSR_VTT.json\")"
   ]
  },
  {
   "cell_type": "code",
   "execution_count": 6,
   "id": "2689eac0-ece6-4f04-bc68-2f2fa5b09e2b",
   "metadata": {},
   "outputs": [],
   "source": [
    "data = load_json(data_file)"
   ]
  },
  {
   "cell_type": "code",
   "execution_count": 7,
   "id": "7c5fd5cc-ae13-48c0-86dd-3f37ded515ce",
   "metadata": {},
   "outputs": [
    {
     "data": {
      "text/plain": [
       "5"
      ]
     },
     "execution_count": 7,
     "metadata": {},
     "output_type": "execute_result"
    }
   ],
   "source": [
    "len(data)"
   ]
  },
  {
   "cell_type": "code",
   "execution_count": 8,
   "id": "957dedfe-df9a-48a8-a8ee-53be0fdc2ba8",
   "metadata": {},
   "outputs": [
    {
     "data": {
      "text/plain": [
       "dict_keys(['info', 'images', 'licenses', 'type', 'annotations'])"
      ]
     },
     "execution_count": 8,
     "metadata": {},
     "output_type": "execute_result"
    }
   ],
   "source": [
    "data.keys()"
   ]
  },
  {
   "cell_type": "code",
   "execution_count": 9,
   "id": "5540ac1f-d73e-4fd9-a310-49bd26bf25e9",
   "metadata": {},
   "outputs": [
    {
     "data": {
      "text/plain": [
       "('captions', 10000, 199994)"
      ]
     },
     "execution_count": 9,
     "metadata": {},
     "output_type": "execute_result"
    }
   ],
   "source": [
    "data[\"type\"], len(data[\"images\"]), len(data[\"annotations\"])"
   ]
  },
  {
   "cell_type": "code",
   "execution_count": 10,
   "id": "6110d0f3-a73f-4895-8159-4afb8327b078",
   "metadata": {},
   "outputs": [
    {
     "data": {
      "text/plain": [
       "{'caption': 'a cartoon character runs around inside of a video game',\n",
       " 'id': 1,\n",
       " 'image_id': 'video2960'}"
      ]
     },
     "execution_count": 10,
     "metadata": {},
     "output_type": "execute_result"
    }
   ],
   "source": [
    "data[\"annotations\"][1]"
   ]
  },
  {
   "cell_type": "markdown",
   "id": "d2fcf406-968d-47f1-bc95-898560e9896b",
   "metadata": {},
   "source": [
    "### Check annotations for a single video"
   ]
  },
  {
   "cell_type": "code",
   "execution_count": 11,
   "id": "74d5b7d1-7cfc-4747-bdb0-37439a307855",
   "metadata": {},
   "outputs": [
    {
     "name": "stdout",
     "output_type": "stream",
     "text": [
      "Found 20 captions for video video2960.\n"
     ]
    }
   ],
   "source": [
    "video_id = \"video2960\"\n",
    "\n",
    "# find all annotations for this video_id\n",
    "\n",
    "def find_annotations_for_video(annotations, video_id):\n",
    "    return [x for x in annotations if x[\"image_id\"] == video_id]\n",
    "\n",
    "video_annotations = find_annotations_for_video(data[\"annotations\"], video_id)\n",
    "\n",
    "print(f\"Found {len(video_annotations)} captions for video {video_id}.\")"
   ]
  },
  {
   "cell_type": "markdown",
   "id": "c6ca73f5-1c79-4993-90eb-a97ad8e1faf7",
   "metadata": {},
   "source": [
    "### Check stats for all videos"
   ]
  },
  {
   "cell_type": "code",
   "execution_count": 12,
   "id": "ad7937ec-71fa-4793-bef7-464b65eaea81",
   "metadata": {},
   "outputs": [
    {
     "name": "stdout",
     "output_type": "stream",
     "text": [
      "Found captions with temporal prepositions: 10838\n",
      "Some examples:\n",
      "[{'caption': 'a man gets hit in the face with a chair during a wwf wrestling match', 'id': 20, 'image_id': 'video2636'}, {'caption': 'a man hit another man with a chair in a wrestling ring and then is pinning him', 'id': 22, 'image_id': 'video2636'}, {'caption': 'a man gets hit in the face with a chair during a wwf wrestling match', 'id': 39, 'image_id': 'video2636'}]\n"
     ]
    }
   ],
   "source": [
    "# define some temporal prepositions\n",
    "temporal_prepositions = [\"after\", \"before\", \"then\", \"while\", \"during\", \"as soon as\"]\n",
    "\n",
    "\n",
    "def check_in_caption(caption, keywords):\n",
    "    \"\"\"Checks if any of the given keywords occur in the caption.\"\"\"\n",
    "    caption = caption.lower()\n",
    "    for word in keywords:\n",
    "        if word.lower() in caption:\n",
    "            return True\n",
    "    return False\n",
    "\n",
    "\n",
    "# find captions with temporal prepositions\n",
    "temporal_captions = [x for x in data[\"annotations\"] if check_in_caption(\n",
    "    caption=x[\"caption\"], keywords=temporal_prepositions\n",
    ")]\n",
    "\n",
    "print(f\"Found captions with temporal prepositions: {len(temporal_captions)}\")\n",
    "print(\"Some examples:\")\n",
    "print(temporal_captions[:min(3, len(temporal_prepositions))])"
   ]
  },
  {
   "cell_type": "code",
   "execution_count": 13,
   "id": "483b2c56-702f-455d-bf78-0b8ab289a7c2",
   "metadata": {},
   "outputs": [],
   "source": [
    "temporal_captions_split = defaultdict(list)\n",
    "\n",
    "for x in temporal_captions:\n",
    "    for word in temporal_prepositions:\n",
    "        if word in x[\"caption\"]:\n",
    "            temporal_captions_split[word].append(x)"
   ]
  },
  {
   "cell_type": "code",
   "execution_count": 14,
   "id": "d1427674-7866-4050-9f55-92212aa55755",
   "metadata": {},
   "outputs": [
    {
     "data": {
      "text/plain": [
       "6"
      ]
     },
     "execution_count": 14,
     "metadata": {},
     "output_type": "execute_result"
    }
   ],
   "source": [
    "len(temporal_captions_split)"
   ]
  },
  {
   "cell_type": "code",
   "execution_count": 36,
   "id": "663573cb-26c0-4663-b286-5a3718d0ca2f",
   "metadata": {},
   "outputs": [
    {
     "data": {
      "image/png": "[encoded data removed]",
      "text/plain": [
       "<Figure size 720x504 with 1 Axes>"
      ]
     },
     "metadata": {
      "needs_background": "light"
     },
     "output_type": "display_data"
    }
   ],
   "source": [
    "fig, ax = plt.subplots(1, 1, figsize=(10, 7))\n",
    "\n",
    "counts = [len(temporal_captions_split[k]) for k in temporal_captions_split]\n",
    "keys = [k.capitalize() for k in temporal_captions_split]\n",
    "\n",
    "ax.grid(alpha=0.5)\n",
    "ax.bar(keys, counts)\n",
    "ax.set_title(\"Distribution of temporal words in MSR-VTT captions\", fontsize=15)\n",
    "ax.set_xlabel(\"Temporal preprositions\", fontsize=13)\n",
    "ax.set_ylabel(\"Frequency\", fontsize=13)\n",
    "\n",
    "rects = ax.patches\n",
    "for rect, count in zip(rects, counts):\n",
    "    height = rect.get_height()\n",
    "    ax.text(\n",
    "        rect.get_x() + rect.get_width() / 2, height - 400,\n",
    "        count, ha=\"center\", va=\"bottom\", fontsize=13, color=\"white\", weight='bold',\n",
    "    )\n",
    "\n",
    "plt.show()"
   ]
  },
  {
   "cell_type": "code",
   "execution_count": null,
   "id": "dd502d3f-b2db-4762-9170-39f84604196f",
   "metadata": {},
   "outputs": [],
   "source": []
  }
 ],
 "metadata": {
  "kernelspec": {
   "display_name": "Python 3 (ipykernel)",
   "language": "python",
   "name": "python3"
  },
  "language_info": {
   "codemirror_mode": {
    "name": "ipython",
    "version": 3
   },
   "file_extension": ".py",
   "mimetype": "text/x-python",
   "name": "python",
   "nbconvert_exporter": "python",
   "pygments_lexer": "ipython3",
   "version": "3.9.12"
  }
 },
 "nbformat": 4,
 "nbformat_minor": 5
}
