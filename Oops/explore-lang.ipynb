{
 "cells": [
  {
   "cell_type": "code",
   "execution_count": 1,
   "metadata": {},
   "outputs": [],
   "source": [
    "%load_ext autoreload\n",
    "%autoreload 2"
   ]
  },
  {
   "cell_type": "code",
   "execution_count": 4,
   "metadata": {},
   "outputs": [],
   "source": [
    "import os\n",
    "os.chdir(\"../\")"
   ]
  },
  {
   "cell_type": "code",
   "execution_count": 5,
   "metadata": {},
   "outputs": [],
   "source": [
    "from os.path import join, exists, isdir\n",
    "import pandas as pd\n",
    "\n",
    "from utils.io import load_json"
   ]
  },
  {
   "cell_type": "code",
   "execution_count": 7,
   "metadata": {},
   "outputs": [],
   "source": [
    "data_root = \"/var/scratch/pbagad/datasets/oops\"\n",
    "\n",
    "lang_split = load_json(join(data_root, \"svos/val.json\"))"
   ]
  },
  {
   "cell_type": "code",
   "execution_count": 10,
   "metadata": {},
   "outputs": [
    {
     "data": {
      "text/plain": [
       "(3593,\n",
       " ['Sticks and Stones (July 2018) _ FailArmy11',\n",
       "  'Swingset Stupidity - Fails of the Week (May 2019) _ FailArmy0',\n",
       "  'Funny Tourist Fails (June 2017) _ FailArmy17',\n",
       "  'Ouchie - Dang That Hurt! (May 2018) _ FailArmy43',\n",
       "  \"Don't Rock the Boat - Throwback Fails (July 2017)21\"])"
      ]
     },
     "execution_count": 10,
     "metadata": {},
     "output_type": "execute_result"
    }
   ],
   "source": [
    "len(lang_split.keys()), list(lang_split.keys())[:5]"
   ]
  },
  {
   "cell_type": "code",
   "execution_count": 11,
   "metadata": {},
   "outputs": [],
   "source": [
    "key = list(lang_split.keys())[3]\n",
    "info = lang_split[key]"
   ]
  },
  {
   "cell_type": "code",
   "execution_count": 12,
   "metadata": {},
   "outputs": [
    {
     "data": {
      "text/plain": [
       "[{'goal': 'A dog came running up a ramp to get into the house.',\n",
       "  'wentwrong': 'The dog did not realize the transparent door was closed and ran right into it.',\n",
       "  'kgoalsvos': [['dog', 'run', 'ramp'], ['', 'get', 'house']],\n",
       "  'kwentwrongsvos': [['it', 'run', ''], ['', '!realize', 'dog']]},\n",
       " {'goal': 'A dog was trying to run inside through a door.',\n",
       "  'wentwrong': 'The door was closed and the dog ran into the glass.',\n",
       "  'kgoalsvos': [['dog', 'run', 'door']],\n",
       "  'kwentwrongsvos': [['door', 'be', ''],\n",
       "   ['door', 'run', 'glass'],\n",
       "   ['dog', 'run', 'glass']]}]"
      ]
     },
     "execution_count": 12,
     "metadata": {},
     "output_type": "execute_result"
    }
   ],
   "source": [
    "info"
   ]
  },
  {
   "cell_type": "code",
   "execution_count": null,
   "metadata": {},
   "outputs": [],
   "source": []
  }
 ],
 "metadata": {
  "kernelspec": {
   "display_name": "Python 3.8.8 ('videoclip')",
   "language": "python",
   "name": "python3"
  },
  "language_info": {
   "codemirror_mode": {
    "name": "ipython",
    "version": 3
   },
   "file_extension": ".py",
   "mimetype": "text/x-python",
   "name": "python",
   "nbconvert_exporter": "python",
   "pygments_lexer": "ipython3",
   "version": "3.8.8"
  },
  "orig_nbformat": 4,
  "vscode": {
   "interpreter": {
    "hash": "4d735c6d2aad13934026534ccfaebefdc13ee41c600726d150e1b53623013d99"
   }
  }
 },
 "nbformat": 4,
 "nbformat_minor": 2
}
