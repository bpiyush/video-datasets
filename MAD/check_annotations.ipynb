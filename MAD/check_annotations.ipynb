{
 "cells": [
  {
   "cell_type": "code",
   "execution_count": 1,
   "id": "ebbd803c-ab49-4553-8e84-472a9dc72b8a",
   "metadata": {},
   "outputs": [],
   "source": [
    "%load_ext autoreload\n",
    "%autoreload 2"
   ]
  },
  {
   "cell_type": "code",
   "execution_count": 29,
   "id": "7317a291-e3d7-4af1-8ea9-149295b66cb5",
   "metadata": {},
   "outputs": [],
   "source": [
    "from os.path import join\n",
    "import json\n",
    "import h5py\n",
    "import pprint\n",
    "import numpy as np\n",
    "from collections import defaultdict\n",
    "import matplotlib.pyplot as plt"
   ]
  },
  {
   "cell_type": "code",
   "execution_count": 10,
   "id": "2929b024-ceba-4732-a004-05d33053afd6",
   "metadata": {},
   "outputs": [],
   "source": [
    "# set data root\n",
    "data_root = \"/ssd/pbagad/datasets/MAD/data/\"\n",
    "\n",
    "# load annotations\n",
    "train = json.load(open(join(data_root, 'annotations/MAD_train.json'),'r'))\n",
    "val   = json.load(open(join(data_root, 'annotations/MAD_val.json'),'r'))\n",
    "test  = json.load(open(join(data_root, 'annotations/MAD_test.json'),'r'))"
   ]
  },
  {
   "cell_type": "code",
   "execution_count": 11,
   "id": "65fa1ac8-5d26-4852-a768-acb325185d93",
   "metadata": {},
   "outputs": [
    {
     "data": {
      "text/plain": [
       "(280183, 32064, 72044)"
      ]
     },
     "execution_count": 11,
     "metadata": {},
     "output_type": "execute_result"
    }
   ],
   "source": [
    "len(train), len(val), len(test)"
   ]
  },
  {
   "cell_type": "code",
   "execution_count": 14,
   "id": "357be173-4d49-4d78-8bca-472028c4f8f6",
   "metadata": {},
   "outputs": [],
   "source": [
    "data = {**train, **val, **test}"
   ]
  },
  {
   "cell_type": "code",
   "execution_count": 15,
   "id": "170d5614-0cd8-4d25-b802-cce7b49eb8cb",
   "metadata": {},
   "outputs": [
    {
     "data": {
      "text/plain": [
       "384291"
      ]
     },
     "execution_count": 15,
     "metadata": {},
     "output_type": "execute_result"
    }
   ],
   "source": [
    "len(data)"
   ]
  },
  {
   "cell_type": "code",
   "execution_count": 18,
   "id": "3e2d0006-2106-4352-9884-d83ef44ff7c0",
   "metadata": {},
   "outputs": [
    {
     "data": {
      "text/plain": [
       "{'movie': '3018_CINDERELLA_MAN',\n",
       " 'sentence': 'He checks his fake tooth in a mirror rubbing it with a forefinger.',\n",
       " 'timestamps': [510.688, 515.25],\n",
       " 'ext_timestamps': [510.688, 515.25],\n",
       " 'movie_duration': 8661.6,\n",
       " 'tokens': ['He',\n",
       "  'checks',\n",
       "  'his',\n",
       "  'fake',\n",
       "  'tooth',\n",
       "  'in',\n",
       "  'a',\n",
       "  'mirror',\n",
       "  'rubbing',\n",
       "  'it',\n",
       "  'with',\n",
       "  'a',\n",
       "  'forefinger',\n",
       "  '.']}"
      ]
     },
     "execution_count": 18,
     "metadata": {},
     "output_type": "execute_result"
    }
   ],
   "source": [
    "data[\"6788\"]"
   ]
  },
  {
   "cell_type": "markdown",
   "id": "59fa8249-9611-4ee4-9536-17e3f6fc59de",
   "metadata": {},
   "source": [
    "### Check temporal captions"
   ]
  },
  {
   "cell_type": "code",
   "execution_count": 19,
   "id": "d4e32a06-786f-4059-b0c3-f51b5f26adc0",
   "metadata": {},
   "outputs": [],
   "source": [
    "# define some temporal prepositions\n",
    "temporal_prepositions = [\"after\", \"before\", \"then\", \"while\", \"during\", \"as soon as\"]\n",
    "\n",
    "\n",
    "def check_in_caption(caption, keywords):\n",
    "    \"\"\"Checks if any of the given keywords occur in the caption.\"\"\"\n",
    "    caption = caption.lower()\n",
    "    for word in keywords:\n",
    "        if word.lower() in caption:\n",
    "            return True\n",
    "    return False"
   ]
  },
  {
   "cell_type": "code",
   "execution_count": 21,
   "id": "d9ba2202-8e7c-47dc-9d48-ed456f9d6b4f",
   "metadata": {},
   "outputs": [],
   "source": [
    "# find captions with temporal prepositions\n",
    "temporal_captions = [data[x] for x in data if check_in_caption(data[x][\"sentence\"], temporal_prepositions)]"
   ]
  },
  {
   "cell_type": "code",
   "execution_count": 25,
   "id": "e4c5e74d-6476-4120-b99c-b8dd38f3f2d1",
   "metadata": {},
   "outputs": [],
   "source": [
    "temporal_captions_split = defaultdict(list)\n",
    "\n",
    "for x in temporal_captions:\n",
    "    for word in temporal_prepositions:\n",
    "        if word in x[\"sentence\"]:\n",
    "            temporal_captions_split[word].append(x)"
   ]
  },
  {
   "cell_type": "code",
   "execution_count": 27,
   "id": "ac2ac9fe-a215-43c8-bb97-991c7456c587",
   "metadata": {},
   "outputs": [
    {
     "data": {
      "text/plain": [
       "2315"
      ]
     },
     "execution_count": 27,
     "metadata": {},
     "output_type": "execute_result"
    }
   ],
   "source": [
    "len(temporal_captions_split[\"after\"])"
   ]
  },
  {
   "cell_type": "code",
   "execution_count": 36,
   "id": "01f10442-fd79-4870-abb0-cdce5f207f14",
   "metadata": {},
   "outputs": [
    {
     "data": {
      "text/plain": [
       "array([3, 5, 1, 4, 0, 2])"
      ]
     },
     "execution_count": 36,
     "metadata": {},
     "output_type": "execute_result"
    }
   ],
   "source": []
  },
  {
   "cell_type": "code",
   "execution_count": 38,
   "id": "63382654-b877-4dbc-9dd8-3027b053efc4",
   "metadata": {},
   "outputs": [
    {
     "data": {
      "image/png": "[encoded data removed]",
      "text/plain": [
       "<Figure size 720x504 with 1 Axes>"
      ]
     },
     "metadata": {
      "needs_background": "light"
     },
     "output_type": "display_data"
    }
   ],
   "source": [
    "fig, ax = plt.subplots(1, 1, figsize=(10, 7))\n",
    "\n",
    "counts = [len(temporal_captions_split[k]) for k in temporal_captions_split]\n",
    "keys = [k.capitalize() for k in temporal_captions_split]\n",
    "\n",
    "indices = np.argsort(keys)\n",
    "counts = np.array(counts)[indices]\n",
    "keys = np.array(keys)[indices]\n",
    "\n",
    "ax.grid(alpha=0.5)\n",
    "ax.bar(keys, counts)\n",
    "ax.set_title(\"Distribution of temporal words in MAD descriptions\", fontsize=15)\n",
    "ax.set_xlabel(\"Temporal preprositions\", fontsize=13)\n",
    "ax.set_ylabel(\"Frequency\", fontsize=13)\n",
    "\n",
    "rects = ax.patches\n",
    "for rect, count in zip(rects, counts):\n",
    "    height = rect.get_height()\n",
    "    \n",
    "    if count > 1000:\n",
    "        new_height = height - 1000\n",
    "        color=\"white\"\n",
    "    else:\n",
    "        new_height = height + 500\n",
    "        color=\"black\"\n",
    "    \n",
    "    ax.text(\n",
    "        rect.get_x() + rect.get_width() / 2, new_height,\n",
    "        count, ha=\"center\", va=\"bottom\", fontsize=13, color=color, weight='bold',\n",
    "    )\n",
    "\n",
    "plt.show()"
   ]
  },
  {
   "cell_type": "code",
   "execution_count": null,
   "id": "bebd2691-d973-4683-ba6e-7cde4ccf3575",
   "metadata": {},
   "outputs": [],
   "source": []
  }
 ],
 "metadata": {
  "kernelspec": {
   "display_name": "Python 3 (ipykernel)",
   "language": "python",
   "name": "python3"
  },
  "language_info": {
   "codemirror_mode": {
    "name": "ipython",
    "version": 3
   },
   "file_extension": ".py",
   "mimetype": "text/x-python",
   "name": "python",
   "nbconvert_exporter": "python",
   "pygments_lexer": "ipython3",
   "version": "3.9.12"
  }
 },
 "nbformat": 4,
 "nbformat_minor": 5
}
