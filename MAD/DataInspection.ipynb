{
 "cells": [
  {
   "cell_type": "markdown",
   "id": "4f63dba1-1cbc-4a4a-ba41-66de1b25206d",
   "metadata": {},
   "source": [
    "# MAD grounding data walkthrough"
   ]
  },
  {
   "cell_type": "code",
   "execution_count": 1,
   "id": "14aa82d9-f027-4936-ae8f-f1811bfdd42a",
   "metadata": {},
   "outputs": [],
   "source": [
    "import json\n",
    "import h5py\n",
    "import pprint"
   ]
  },
  {
   "cell_type": "code",
   "execution_count": 2,
   "id": "56500d1d-a6db-49cf-aede-b5baead33144",
   "metadata": {},
   "outputs": [],
   "source": [
    "# load annotations\n",
    "train = json.load(open('./annotations/MAD_train.json','r'))\n",
    "val   = json.load(open('./annotations/MAD_val.json','r'))\n",
    "test  = json.load(open('./annotations/MAD_test.json','r'))"
   ]
  },
  {
   "cell_type": "code",
   "execution_count": 3,
   "id": "5d41433f-2f19-4a1a-8b1e-da7e1ed95c48",
   "metadata": {},
   "outputs": [
    {
     "name": "stdout",
     "output_type": "stream",
     "text": [
      "Number of annotations in train set 280183\n",
      "Number of annotations in validation set 32064\n",
      "Number of annotations in test set 72044\n",
      "Total number of annotations 384291\n",
      "\n",
      "Number of movies in train set 488\n",
      "Number of movies in validation set 50\n",
      "Number of movies in test set 112\n",
      "Total number of movies: 650\n",
      "\n",
      "Inner dictionary keys: ['movie', 'sentence', 'timestamps', 'ext_timestamps', 'movie_duration', 'tokens']\n",
      "\n",
      "Example:\n",
      "{'ext_timestamps': [1888.785879, 1892.375879],\n",
      " 'movie': '10202',\n",
      " 'movie_duration': 7556.0,\n",
      " 'sentence': ' SOMEONE hurries over to the road and sees a second horseman, '\n",
      "             'thundering toward them.',\n",
      " 'timestamps': [1888.785879, 1892.375879],\n",
      " 'tokens': ['Willow',\n",
      "            'hurries',\n",
      "            'over',\n",
      "            'to',\n",
      "            'the',\n",
      "            'road',\n",
      "            'and',\n",
      "            'sees',\n",
      "            'a',\n",
      "            'second',\n",
      "            'horseman',\n",
      "            ',',\n",
      "            'thundering',\n",
      "            'toward',\n",
      "            'them',\n",
      "            '.']}\n"
     ]
    }
   ],
   "source": [
    "# Number of annotations \n",
    "print(f'Number of annotations in train set {len(train)}')\n",
    "print(f'Number of annotations in validation set {len(val)}')\n",
    "print(f'Number of annotations in test set {len(test)}')\n",
    "print(f'Total number of annotations {len(train)+len(val)+len(test)}\\n')\n",
    "\n",
    "# Structure of annotations: \n",
    "# - Each json contains a dictionary, the key of the dictionary is the sentence ID \n",
    "# - Each sentence key is unique and is required to read sentences embeddings from features file\n",
    "sentences_ids = list(train.keys()) + list(val.keys()) + list(test.keys())\n",
    "\n",
    "# Movies stuff\n",
    "train_movies = list(set([v['movie'] for v in train.values()]))\n",
    "val_movies   = list(set([v['movie'] for v in val.values()]))\n",
    "test_movies  = list(set([v['movie'] for v in test.values()]))\n",
    "movies_ids   = train_movies + val_movies + test_movies\n",
    "print(f'Number of movies in train set {len(train_movies)}')\n",
    "print(f'Number of movies in validation set {len(val_movies)}')\n",
    "print(f'Number of movies in test set {len(test_movies)}')\n",
    "print(f'Total number of movies: {len(movies_ids)}\\n')\n",
    "\n",
    "# Asociated with each sentence ID we have a dictionary containing the following keys: \n",
    "print(f'Inner dictionary keys: {list(train[sentences_ids[1000]].keys())}\\n')\n",
    "print(f'Example:')\n",
    "pprint.pprint(train[sentences_ids[1000]])\n",
    "\n",
    "# Inner Dictionary Documentation\n",
    "# movie          = unique ID for each movie (not the title). We need this value to read frames embeddings from features file.\n",
    "# movie_duration = duration in seconds\n",
    "# sentence       = textual annotation\n",
    "# tokens         = tokenized sentences produced with spacy (Different from tokens features. They come from CLIP tokenizer. These tokens are not used in training but only for statistics)\n",
    "# timestamps     = raw temporal grounding \n",
    "# ext_timestamps = extended temporal timestamps USED FOR TRAINING AND EVALUATE (Each annotation shorter than 2 seconds was extended to 2 seconds. Similar approach was used in LSMDC.)\n"
   ]
  },
  {
   "cell_type": "code",
   "execution_count": 5,
   "id": "c57de496-dff3-4153-a313-8f271f4032ad",
   "metadata": {},
   "outputs": [],
   "source": [
    "# Features\n",
    "lang   = h5py.File('./features/CLIP_language_tokens_features.h5','r') \n",
    "visual = h5py.File('./features/CLIP_frames_features_5fps.h5','r') "
   ]
  },
  {
   "cell_type": "code",
   "execution_count": 6,
   "id": "1506fcef-8e21-4117-a103-05061a242d61",
   "metadata": {},
   "outputs": [
    {
     "name": "stdout",
     "output_type": "stream",
     "text": [
      "Number of sentences embeddings: 384291\n",
      "Sentence tokens embeddings shape [Num tokens, Embedding dim] (example): (18, 512) \n",
      "Number of movies embeddings: 650\n",
      "Movies frames embeddings shape [Num frames, Embedding dim] (example): (26086, 512) \n"
     ]
    }
   ],
   "source": [
    "# Features documentation\n",
    "print(f'Number of sentences embeddings: {len(lang)}')\n",
    "print(f'Sentence tokens embeddings shape [Num tokens, Embedding dim] (example): {lang[sentences_ids[1000]][:].shape} ')\n",
    "\n",
    "print(f'Number of movies embeddings: {len(visual)}')\n",
    "print(f'Movies frames embeddings shape [Num frames, Embedding dim] (example): {visual[movies_ids[0]][:].shape} ')"
   ]
  },
  {
   "cell_type": "code",
   "execution_count": null,
   "id": "4e804fd1-dbb3-4b5d-9338-816dcbb113eb",
   "metadata": {},
   "outputs": [],
   "source": []
  }
 ],
 "metadata": {
  "kernelspec": {
   "display_name": "Python 3 (ipykernel)",
   "language": "python",
   "name": "python3"
  },
  "language_info": {
   "codemirror_mode": {
    "name": "ipython",
    "version": 3
   },
   "file_extension": ".py",
   "mimetype": "text/x-python",
   "name": "python",
   "nbconvert_exporter": "python",
   "pygments_lexer": "ipython3",
   "version": "3.9.12"
  }
 },
 "nbformat": 4,
 "nbformat_minor": 5
}
